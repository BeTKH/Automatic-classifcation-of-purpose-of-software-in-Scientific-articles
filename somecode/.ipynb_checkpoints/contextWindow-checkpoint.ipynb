{
 "cells": [
  {
   "cell_type": "code",
   "execution_count": 13,
   "id": "73409161",
   "metadata": {},
   "outputs": [],
   "source": [
    "def _read_text_file(path, bef, aft, read_empty=False):\n",
    "    \n",
    "    def add_neighbours(*sentcs):\n",
    "        \n",
    "        # unpack list of sentcs passed\n",
    "        lis_sents = list(sentcs)\n",
    "    \n",
    "        joined_tokens = []\n",
    "\n",
    "        for i in range(len(lis_sents)):\n",
    "        \n",
    "            joined_tokens.extend(lis_sents[i].split())\n",
    "        \n",
    "            joined_sent = ' '.join(joined_tokens)\n",
    "    \n",
    "        return joined_sent\n",
    "    \n",
    "    def contextWindow(text, bef, aft):\n",
    "        # 0B, OA --- no change\n",
    "        if (bef == 0) and (aft == 0):\n",
    "            return text\n",
    "        \n",
    "        # 0B, 1A --- 2 conditions  \n",
    "        elif (bef == 0) and (aft == 1):\n",
    "            contxt_txt = []\n",
    "            for i in range(len(text)):\n",
    "                # 0B, 1A\n",
    "                if (i >= 0) and (i < len(text)-1):\n",
    "                    contxt_txt.append( add_neighbours(text[i], text[i+1])) \n",
    "                    \n",
    "                # 0B, 0A\n",
    "                elif i == len(text)-1:\n",
    "                    contxt_txt.append(text[i]) \n",
    "                    \n",
    "            return contxt_txt\n",
    "            \n",
    "        #OB, 2A --- 3 conditions\n",
    "        elif (bef == 0) and (aft == 2):\n",
    "            contxt_txt = []\n",
    "            for i in range(len(text)):\n",
    "                #OB, 2A\n",
    "                if (i >= 0) and (i <len(text)-2):\n",
    "                    contxt_txt.append( add_neighbours(text[i], text[i+1], text[i+2]))\n",
    "                    \n",
    "                elif i == (len(text)-2):\n",
    "                    contxt_txt.append( add_neighbours(text[i], text[i+1] ))\n",
    "                    \n",
    "                elif i == (len(text)-1):\n",
    "                    contxt_txt.append(text[i])\n",
    "                    \n",
    "            return contxt_txt\n",
    "        \n",
    "        \n",
    "        #1B, 0A --- 2 conditions\n",
    "        elif (bef == 1) and (aft == 0):\n",
    "            contxt_txt = []\n",
    "            for i in range(len(text)):\n",
    "                #0B, 0A\n",
    "                if (i == 0):\n",
    "                    contxt_txt.append(text[i])\n",
    "                    \n",
    "                elif (i >0):\n",
    "                    contxt_txt.append(add_neighbours(text[i-1], text[i]))\n",
    "                    \n",
    "            return contxt_txt\n",
    "    \n",
    "        #1B, 1A --- 3 conditions \n",
    "        elif ( bef == 1 ) and ( aft == 1):\n",
    "            contxt_txt = []\n",
    "            for i in range(len(text)):\n",
    "                if i == 0:   # 0B, 1A\n",
    "                    contxt_txt.append(add_neighbours (text[i], text[i+1]))\n",
    "                    \n",
    "                elif (i > 0) and ( i < len(text)-1):  # 1B ,1A\n",
    "                    contxt_txt.append(add_neighbours(text[i-1], text[i], text[i+1]))\n",
    "                    \n",
    "                elif (i == len(text)-1):  #1B, 0A\n",
    "                    contxt_txt.append(add_neighbours(text[i-1], text[i]))\n",
    "            return contxt_txt\n",
    "    \n",
    "        #1B, 2A --- 4 conditions\n",
    "        elif (bef ==1 ) and (aft == 2):\n",
    "            contxt_txt = []\n",
    "            for i in range(len(text)):\n",
    "                if i ==0:\n",
    "                    contxt_txt.append(add_neighbours(text[i], text[i+1], text[i+2]))  #0B, 2A\n",
    "                    \n",
    "                elif (i > 0) and (i < len(text)-2):\n",
    "                    contxt_txt.append(add_neighbours(text[i-1], text[i], text[i+1],text[i+2]))     #1B, 2A\n",
    "                    \n",
    "                elif (i == len(text)-2):\n",
    "                    contxt_txt.append(add_neighbours(text[i-1], text[i],text[i+1]))               #1B, 1A\n",
    "                    \n",
    "                elif i == (len(text)-1):\n",
    "                    contxt_txt.append(add_neighbours(text[i-1], text[i]))                         #1B,0A\n",
    "            return contxt_txt\n",
    "    \n",
    "        #2B, 0A   -- 3 cases \n",
    "        elif( bef ==2) and ( aft == 0):\n",
    "            contxt_txt = []\n",
    "            for i in range(len(text)):\n",
    "                if i == 0:       \n",
    "                    contxt_txt.append(text[i])         #0B, 0A\n",
    "                elif i == 1:\n",
    "                    contxt_txt.append(add_neighbours(text[i-1], text[i]))            #1B, 0A\n",
    "                elif i > 1:\n",
    "                    contxt_txt.append(add_neighbours(text[i-2], text[i-1], text[i]))  #2B, 0A\n",
    "            return contxt_txt\n",
    "    \n",
    "        #2B, 1A -- 3 cases\n",
    "        elif ( bef == 2 ) and (aft == 1):\n",
    "            contxt_txt = []\n",
    "            for i in range(len(text)):\n",
    "                if i ==0: \n",
    "                    contxt_txt.append(add_neighbours(text[i], text[i+1]) )                     #0B, 1A\n",
    "                    \n",
    "                elif i ==1:\n",
    "                    contxt_txt.append(add_neighbours(text[i-1], text[i], text[i+1]) )          #1B, 1A\n",
    "                    \n",
    "                elif (i > 1) and (i < len(text)-1):\n",
    "                    contxt_txt.append(add_neighbours(text[i-2], text[i-1], text[i], text[i+1]))  # 2B, 1A\n",
    "                    \n",
    "                elif i == len(text)-1:\n",
    "                    contxt_txt.append(add_neighbours(text[i-2], text[i-2], text[i]))           #2B, 0A\n",
    "                    \n",
    "            return contxt_txt\n",
    "            \n",
    "        #2B, 2A --- 5 conditions\n",
    "        elif (bef == 2) and (aft == 2):        \n",
    "            contxt_txt = []        \n",
    "            for i in range(len(text)):    \n",
    "        \n",
    "                if i == 0:    # 0B, 2A\n",
    "                    contxt_txt.append(add_neighbours(text[i] , text[i+1] , text[i+2]))  \n",
    "                    \n",
    "                elif i == 1:  # 1B, 2A\n",
    "                    contxt_txt.append(add_neighbours(text[i-1] , text[i] , text[i+1] , text[i+2]))\n",
    "                    \n",
    "                elif (i >=2) and (i < len(text)-2):   # 2B , 2A \n",
    "                    contxt_txt.append(add_neighbours(text[i-2], text[i-1], text[i], text[i+1], text[i+2]))\n",
    "                    \n",
    "                elif (i == len(text)-2):             #2B, 1A\n",
    "                    contxt_txt.append(add_neighbours(text[i-2], text[i-1], text[i], text[i+1]))\n",
    "                    \n",
    "                elif i == len(text)-1:                #2B, 0A  \n",
    "                    contxt_txt.append(add_neighbours(text[i-2], text[i-1], text[i]))      \n",
    "                    \n",
    "            return contxt_txt\n",
    "    \n",
    "    text = []\n",
    "    with path.open(mode='r') as in_f:\n",
    "        for line in in_f:\n",
    "            clean_line = line.rstrip()\n",
    "            if clean_line:\n",
    "                text.append(clean_line)\n",
    "            elif read_empty:\n",
    "                text.append([])\n",
    "                \n",
    "    return contextWindow(text, bef, aft)"
   ]
  },
  {
   "cell_type": "code",
   "execution_count": 14,
   "id": "36d77a8f",
   "metadata": {},
   "outputs": [],
   "source": [
    "from pathlib import Path\n",
    "path_to_file = Path('dax/PMC4507865.data.txt')\n",
    "path_to_label = Path('dax/PMC4507865.labels.txt')"
   ]
  },
  {
   "cell_type": "code",
   "execution_count": 15,
   "id": "90dbe374",
   "metadata": {
    "scrolled": true
   },
   "outputs": [],
   "source": [
    "txt = _read_text_file(path_to_file,  1, 1)\n",
    "lbl = _read_text_file(path_to_label, 1, 1)"
   ]
  },
  {
   "cell_type": "code",
   "execution_count": 16,
   "id": "3eca119b",
   "metadata": {},
   "outputs": [
    {
     "name": "stdout",
     "output_type": "stream",
     "text": [
      "txt list is 52 long. \n",
      "lbl list is 52 long\n"
     ]
    }
   ],
   "source": [
    "print(f\"txt list is {len(txt)} long. \\nlbl list is {len(lbl)} long\")"
   ]
  },
  {
   "cell_type": "code",
   "execution_count": 17,
   "id": "5b9547eb",
   "metadata": {},
   "outputs": [
    {
     "data": {
      "text/plain": [
       "'These districts are located along the Yangtze River ( Fig 1 ) . Figure data removed from full text . Figure identifier and caption : 10.1371/journal.pone.0133218.g001 Spatial distribution of HFRS occurrence from 1997 to 2008.WS : Wushan ; FJ : Fengjie ; YY : Yunyang ; KX : Kaixian ; WZ : Wanzhou ; SZ : Shizhu ; ZX : Zhongxian ; FD : Fengdu ; WL : Wulong ; FL : Fuling ; CS : Changshou ; YB : Yubei ; BN : Banan .'"
      ]
     },
     "execution_count": 17,
     "metadata": {},
     "output_type": "execute_result"
    }
   ],
   "source": [
    "txt[3]"
   ]
  },
  {
   "cell_type": "code",
   "execution_count": 18,
   "id": "5798c94f",
   "metadata": {},
   "outputs": [
    {
     "data": {
      "text/plain": [
       "'O O O O O O O O O O O O O O O O O O O O O O O O O O O O O O O O O O O O O O O O O O O O O O O O O O O O O O O O O O O O O O O O O O O O O O O O O O O O O O O O O O O O O O'"
      ]
     },
     "execution_count": 18,
     "metadata": {},
     "output_type": "execute_result"
    }
   ],
   "source": [
    "lbl[3]"
   ]
  }
 ],
 "metadata": {
  "kernelspec": {
   "display_name": "Python 3 (ipykernel)",
   "language": "python",
   "name": "python3"
  },
  "language_info": {
   "codemirror_mode": {
    "name": "ipython",
    "version": 3
   },
   "file_extension": ".py",
   "mimetype": "text/x-python",
   "name": "python",
   "nbconvert_exporter": "python",
   "pygments_lexer": "ipython3",
   "version": "3.8.10"
  }
 },
 "nbformat": 4,
 "nbformat_minor": 5
}
