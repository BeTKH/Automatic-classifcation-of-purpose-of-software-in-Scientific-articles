{
 "cells": [
  {
   "cell_type": "markdown",
   "id": "8565e64d",
   "metadata": {},
   "source": [
    "## 4. Analysis of Annotations"
   ]
  },
  {
   "cell_type": "markdown",
   "id": "d471f28a",
   "metadata": {},
   "source": [
    "A deeper look into the annotated data. \n",
    "\n",
    "#### 4.1. from the software perspective: \n",
    "\n",
    "- How much software does appear only for a single purpose? \n",
    "- What type combinations appear for software? \n",
    "\n",
    "#### 4.2. from the type perspective: \n",
    "\n",
    "- How many different software is there per type? \n",
    "- Does any type just have few software? etc. \n",
    "\n",
    "Here it is especially important that you consider software identities to disambiguate software names, for instance, to tell that SPSS and Statistical Software for the Social Sciences are the same real world software. The corresponding data with identifies for each mention is located at https://github.com/dave-s477/SoMeSci/blob/master/Linking/artifacts.json"
   ]
  },
  {
   "cell_type": "markdown",
   "id": "320b462d",
   "metadata": {},
   "source": [
    "## 4.1. from the software perspective: "
   ]
  },
  {
   "cell_type": "code",
   "execution_count": 56,
   "id": "bb3c6719",
   "metadata": {
    "scrolled": false
   },
   "outputs": [],
   "source": [
    "import os\n",
    "from os import listdir\n",
    "from os.path import isfile, join\n",
    "\n",
    "\n",
    "# file path\n",
    "path = 'SoMeSci/PLoS_methodsClean/'\n",
    "\n",
    "\n",
    "# iterating over all files in the dir\n",
    "for file_name in os.listdir(path)[:]:\n",
    "    \n",
    "    \n",
    "    # if the file is .ann\n",
    "    if file_name.endswith('.ann'):\n",
    "        \n",
    "        # path to each file\n",
    "        file_path = path + file_name\n",
    "        \n",
    "        # read eah file\n",
    "        with open(file_path, \"r\") as a_file:\n",
    "            \n",
    "            anno_usage_strstp = []\n",
    "            anno_purpose_strstp = []\n",
    "            \n",
    "            for line in a_file:\n",
    "            \n",
    "                # grab the type of annotation\n",
    "                annotataion = line.split()\n",
    "                \n",
    "            \n",
    "                    \n",
    "                softwareName = annotataion[4]\n",
    "                \n",
    "                if softwareName == \"Trim Galore\":\n",
    "       \n",
    "                    softwareType = annotataion[1].split(':')[0].split('_')[0]\n",
    "                    softwarePurpose = annotataion[1].split(':')[1].split('_')[1]\n",
    "                    print(f'{file_name:{12}} {softwareName:{20}} {softwareType:{25}} {softwarePurpose:>{20}}') \n",
    "\n",
    "                    \n",
    "                    #break\n",
    "                \n",
    "        #break"
   ]
  },
  {
   "cell_type": "code",
   "execution_count": null,
   "id": "ad245c75",
   "metadata": {},
   "outputs": [],
   "source": []
  }
 ],
 "metadata": {
  "kernelspec": {
   "display_name": "Python 3 (ipykernel)",
   "language": "python",
   "name": "python3"
  },
  "language_info": {
   "codemirror_mode": {
    "name": "ipython",
    "version": 3
   },
   "file_extension": ".py",
   "mimetype": "text/x-python",
   "name": "python",
   "nbconvert_exporter": "python",
   "pygments_lexer": "ipython3",
   "version": "3.8.10"
  }
 },
 "nbformat": 4,
 "nbformat_minor": 5
}
