{
 "cells": [
  {
   "cell_type": "markdown",
   "id": "445126af",
   "metadata": {},
   "source": [
    "# Merging annotations  with Original BRAT format\n",
    "\n",
    "\n",
    "- Merging usage + purpose annotations\n",
    "- keeping all other annotations"
   ]
  },
  {
   "cell_type": "markdown",
   "id": "b603429d",
   "metadata": {},
   "source": [
    "## 1. PLOS"
   ]
  },
  {
   "cell_type": "code",
   "execution_count": 1,
   "id": "f472d7b3",
   "metadata": {},
   "outputs": [],
   "source": [
    "import os\n",
    "from os import listdir\n",
    "from os.path import isfile, join\n",
    "\n",
    "path = 'SoMeSci/PLoS_methods/'\n",
    "\n",
    "\n",
    "# 1. get a list of file names\n",
    "\n",
    "PLOS_filesList = []\n",
    "\n",
    "for file_name in os.listdir(path):\n",
    "    \n",
    "    # if the file is .ann\n",
    "    if file_name.endswith('.ann'):\n",
    "        PLOS_filesList.append(file_name)\n",
    "    else:\n",
    "        continue\n",
    "\n",
    "PLOS_filesList.sort() \n",
    "\n",
    "\n",
    "\n",
    "# we are interested only on annotations set of:  (software_usage and purpose annotations)\n",
    "\n",
    "keep_list = [ 'Application_Creation', 'PlugIn_Creation', 'Application_Deposition', 'PlugIn_Deposition', \n",
    "                     'SoftwareCoreference_Deposition','Application_Mention','ProgrammingEnvironment_Mention',\n",
    "                     'OperatingSystem_Mention', 'PlugIn_Mention','Version','Developer', 'URL', 'License','Citation', 'Abbreviation', \n",
    "                     'AlternativeName', 'Release', 'Extension']\n",
    "\n",
    "\n",
    "merge_list = ['Application_Usage','ProgrammingEnvironment_Usage',\n",
    "                 'PlugIn_Usage','OperatingSystem_Usage', 'Purpose_Analysis',\n",
    "                 'Purpose_Modelling', 'Purpose_Stimulation', \n",
    "                 'Purpose_DataCollection', 'Purpose_DataPreProcss', \n",
    "                 'Purpose_Simulation', 'Purpose_Visualization', 'Purpose_Programming']\n",
    "\n",
    "\n",
    "\n",
    "mergeAnn_dict = {}  # stores list of ann to be merged\n",
    "keepAnn_dict = {}   # stores list of ann to be kept\n",
    "\n",
    "\n",
    "# loop over each file \n",
    "for indx, file in enumerate(PLOS_filesList[:]):\n",
    "    \n",
    "    # path to each file\n",
    "    file_path = path + file\n",
    "    \n",
    "    with open(file_path, \"r\") as a_file:\n",
    "        \n",
    "        \n",
    "        mergAnn_line = []  # stores ann line to be merged \n",
    "        keepANn_line = []  # stores ann line to be kept \n",
    "        \n",
    "        \n",
    "        # check if the annotation is what we want (usage, purpose, starts with T )\n",
    "        for line in a_file:\n",
    "            \n",
    "            annotataion_type = line.split('\\t')[1].split()[0]  # grab annotation type\n",
    "            \n",
    "            # store annotations to be merged into mergAnn_line\n",
    "            \n",
    "            if (line.startswith('T') & (annotataion_type in merge_list)):\n",
    "                \n",
    "                strStop_lst = line.split('\\t')[1].split()[1:]\n",
    "                \n",
    "                # check if the ann is already in the mergAnn_line\n",
    "                if (strStop_lst) not in mergAnn_line: \n",
    "                    \n",
    "                    mergAnn_line.append(line.split('\\t'))\n",
    "                else:\n",
    "                    pass\n",
    "            # store annotations to be kept into mergAnn_line    \n",
    "            else:\n",
    "                keepANn_line.append(line.split('\\t'))\n",
    "                \n",
    "        \n",
    "        mergeAnn_dict[file] = mergAnn_line  \n",
    "        keepAnn_dict[file] = keepANn_line"
   ]
  },
  {
   "cell_type": "markdown",
   "id": "0715ba50",
   "metadata": {},
   "source": [
    "### Merger function"
   ]
  },
  {
   "cell_type": "code",
   "execution_count": 2,
   "id": "cf2744d9",
   "metadata": {},
   "outputs": [],
   "source": [
    "'''\n",
    "\n",
    "each annotation line has a form of:\n",
    "\n",
    "     [Tx | Annotation | START | STOP | nameOfSoftware]\n",
    "     \n",
    "     example: 'T2', 'Application_Usage', '13536', '13539', 'SAS'\n",
    "\n",
    "mergeList() merges two lines of annotations if their start is the same\n",
    "\n",
    "'''\n",
    "\n",
    "def mergeList(list_1, list_2):\n",
    "    \n",
    "    #stores merged annotations\n",
    "    result_list = []\n",
    "    checked_list = []\n",
    "    \n",
    "    for x, y in [(x,y) for x in list_1[1].split()[1:] for y in list_2[1].split()[1:]]:\n",
    "        \n",
    "        if( x == y):\n",
    "            \n",
    "            # to avoid duplicate merging or appending\n",
    "            if x not in checked_list:\n",
    "            \n",
    "                #get id of the firt annotation \n",
    "                result_list.append(list_1[0])\n",
    "                \n",
    "                # get annotation starting_number stop_number into a list annotationStrStp\n",
    "                annotationStrStp = []\n",
    "\n",
    "                #merge annotations by _\n",
    "                annotationStrStp.append(list_1[1].split()[0]+'_'+list_2[1].split()[0].split('_')[1])\n",
    "\n",
    "                # start number\n",
    "                annotationStrStp.append(list_1[1].split()[1])\n",
    "\n",
    "                #end number\n",
    "                annotationStrStp.append(list_1[1].split()[2])             \n",
    "                \n",
    "                # Join annotation , start and stop to result_list\n",
    "                annStrStpJOin = ' '.join(annotationStrStp) \n",
    "                result_list.append(annStrStpJOin)\n",
    "\n",
    "                # get name of the software\n",
    "                software_name = list_1[2]\n",
    "\n",
    "                result_list.append(software_name)\n",
    "                \n",
    "                checked_list.extend(list_1[1].split()[1:])    \n",
    "        else:\n",
    "            pass\n",
    "    return result_list"
   ]
  },
  {
   "cell_type": "markdown",
   "id": "21f0c9dc",
   "metadata": {},
   "source": [
    "### Merge annotations of usage and purpose"
   ]
  },
  {
   "cell_type": "code",
   "execution_count": 3,
   "id": "b2ba7994",
   "metadata": {},
   "outputs": [],
   "source": [
    "# stores MERGED LIST of annotations in each file\n",
    "merged_dict = {}\n",
    "\n",
    "#stores list of list of all annotations\n",
    "all_annotations_list = []\n",
    "\n",
    "\n",
    "# for each file in the dict\n",
    "for key in list(mergeAnn_dict)[:]:\n",
    "    \n",
    "    # stores list of merged annotations\n",
    "    merged_annotationlist_perfile = []\n",
    "    \n",
    "    #print(key)\n",
    "    \"\"\"\n",
    "    compare all annotations to each other and grab those that share the same \"start number\"\n",
    "    \n",
    "    \"\"\"\n",
    "    \n",
    "    lookup_list1 = []\n",
    "    for ls1 in mergeAnn_dict.get(key):\n",
    "        \n",
    "        lookup_list2 = []\n",
    "        for ls2 in mergeAnn_dict.get(key):\n",
    "            \n",
    "            # compare each annotation with another but not to itself\n",
    "            if (ls1 != ls2) :\n",
    "                \n",
    "                r = mergeList(ls1,ls2)\n",
    "                \n",
    "                if (len(r) != 0 ):\n",
    "                    \n",
    "                    if (r[1].split()[1] not in lookup_list1 ) | (r[1].split()[2] not in lookup_list1 ):\n",
    "                        \n",
    "                        merged_annotationlist_perfile.append(r) \n",
    "                        all_annotations_list.append(r)\n",
    "                            \n",
    "                        lookup_list2.extend(r[1].split()[1:])\n",
    "                            \n",
    "                    else:\n",
    "                        pass\n",
    "        # save already merged list on the lookup list            \n",
    "        lookup_list1.extend(lookup_list2) \n",
    "                    \n",
    "                \n",
    "    merged_dict[key] = merged_annotationlist_perfile"
   ]
  },
  {
   "cell_type": "code",
   "execution_count": 4,
   "id": "f6d09e26",
   "metadata": {},
   "outputs": [
    {
     "data": {
      "text/plain": [
       "[['T1', 'Application_Usage_Modelling 3670 3681', 'DS modeling\\n'],\n",
       " ['T2', 'Application_Usage_DataCollection 5677 5683', 'pCLAMP\\n'],\n",
       " ['T3', 'Application_Usage_Analysis 1203 1211', 'ENSEMBLE\\n']]"
      ]
     },
     "execution_count": 4,
     "metadata": {},
     "output_type": "execute_result"
    }
   ],
   "source": [
    "merged_dict.get('PMC1657052.ann')"
   ]
  },
  {
   "cell_type": "code",
   "execution_count": 5,
   "id": "9b021fd6",
   "metadata": {},
   "outputs": [
    {
     "data": {
      "text/plain": [
       "[['T1', 'Application_Usage 3670 3681', 'DS modeling\\n'],\n",
       " ['T2', 'Application_Usage 5677 5683', 'pCLAMP\\n'],\n",
       " ['T3', 'Application_Usage 1203 1211', 'ENSEMBLE\\n'],\n",
       " ['T4', 'Purpose_Analysis 1203 1211', 'ENSEMBLE\\n'],\n",
       " ['T6', 'Purpose_Modelling 3670 3681', 'DS modeling\\n'],\n",
       " ['T12', 'Purpose_DataCollection 5677 5683', 'pCLAMP\\n']]"
      ]
     },
     "execution_count": 5,
     "metadata": {},
     "output_type": "execute_result"
    }
   ],
   "source": [
    "mergeAnn_dict.get('PMC1657052.ann')"
   ]
  },
  {
   "cell_type": "code",
   "execution_count": 6,
   "id": "08b15ff6",
   "metadata": {},
   "outputs": [
    {
     "data": {
      "text/plain": [
       "[['T5', 'Developer 1224 1240', 'Sanger Institute\\n'],\n",
       " ['R1', 'Developer_of Arg1:T5 Arg2:T3', '\\n'],\n",
       " ['T7', 'Version 3699 3702', '1.1\\n'],\n",
       " ['R3', 'Version_of Arg1:T7 Arg2:T1', '\\n'],\n",
       " ['T8', 'Developer 3704 3712', 'Accelrys\\n'],\n",
       " ['R4', 'Developer_of Arg1:T8 Arg2:T1', '\\n'],\n",
       " ['T9', 'URL 3714 3737', 'http://www.accelrys.com\\n'],\n",
       " ['R5', 'URL_of Arg1:T9 Arg2:T8', '\\n'],\n",
       " ['T10', 'Version 5683 5684', '9\\n'],\n",
       " ['R6', 'Version_of Arg1:T10 Arg2:T2', '\\n'],\n",
       " ['T11', 'Developer 5686 5702', 'Axon Instruments\\n'],\n",
       " ['R7', 'Developer_of Arg1:T11 Arg2:T2', '\\n']]"
      ]
     },
     "execution_count": 6,
     "metadata": {},
     "output_type": "execute_result"
    }
   ],
   "source": [
    "keepAnn_dict.get('PMC1657052.ann')"
   ]
  },
  {
   "cell_type": "markdown",
   "id": "70d8d896",
   "metadata": {},
   "source": [
    "## combine merged annotations with other annotations"
   ]
  },
  {
   "cell_type": "code",
   "execution_count": 7,
   "id": "633ec39d",
   "metadata": {},
   "outputs": [],
   "source": [
    "combinedAnnotations_PLOS = {}\n",
    "\n",
    "for file in list(mergeAnn_dict)[:]:\n",
    "    \n",
    "    combinedAnnotations_PLOS[file] = merged_dict.get(file) + keepAnn_dict.get(file)"
   ]
  },
  {
   "cell_type": "code",
   "execution_count": 8,
   "id": "634cc031",
   "metadata": {},
   "outputs": [
    {
     "data": {
      "text/plain": [
       "[['T1', 'Application_Usage_Analysis 3540 3545', 'Stata\\n'],\n",
       " ['T2', 'Application_Usage_Modelling 4256 4261', 'Stata\\n'],\n",
       " ['T7', 'Version 3576 3579', '9.2\\n'],\n",
       " ['R3', 'Version_of Arg1:T7 Arg2:T1', '\\n'],\n",
       " ['T8', 'Developer 3581 3598', 'Stata Corporation\\n'],\n",
       " ['R4', 'Developer_of Arg1:T8 Arg2:T1', '\\n']]"
      ]
     },
     "execution_count": 8,
     "metadata": {},
     "output_type": "execute_result"
    }
   ],
   "source": [
    "combinedAnnotations_PLOS.get('PMC2265305.ann')"
   ]
  },
  {
   "cell_type": "markdown",
   "id": "67699e15",
   "metadata": {},
   "source": [
    "### PLoS:  writing merged annotations to  `PLoS_methodsClean` folder"
   ]
  },
  {
   "cell_type": "code",
   "execution_count": 9,
   "id": "bd3938e9",
   "metadata": {},
   "outputs": [
    {
     "name": "stdout",
     "output_type": "stream",
     "text": [
      "# of files with Combined annotations: 480\n"
     ]
    }
   ],
   "source": [
    "for file in list(combinedAnnotations_PLOS):\n",
    "    \n",
    "    path2 = 'SoMeSci/PLoS_methodsClean/'\n",
    "    file_path = path2 + file\n",
    "       \n",
    "    with open(file_path, \"w\") as f1:\n",
    "            \n",
    "        for line in combinedAnnotations_PLOS.get(file):\n",
    " \n",
    "            txt = '\\t'.join(line)\n",
    "            f1.write(txt)\n",
    "\n",
    "print(\"# of files with Combined annotations:\", len(combinedAnnotations_PLOS))"
   ]
  },
  {
   "cell_type": "markdown",
   "id": "ee8a6ca7",
   "metadata": {},
   "source": [
    "# 2. PubMed"
   ]
  },
  {
   "cell_type": "code",
   "execution_count": 10,
   "id": "2ba5de24",
   "metadata": {},
   "outputs": [],
   "source": [
    "import os\n",
    "from os import listdir\n",
    "from os.path import isfile, join\n",
    "\n",
    "mypath = \"SoMeSci/Pubmed_fulltext/\"\n",
    "\n",
    "\n",
    "# 1. get a list of file names\n",
    "\n",
    "PubMed_filesList = []\n",
    "\n",
    "for file_name in os.listdir(mypath):\n",
    "    \n",
    "    # if the file is .ann\n",
    "    if file_name.endswith('.ann'):\n",
    "        PubMed_filesList.append(file_name)\n",
    "    else:\n",
    "        continue\n",
    "\n",
    "PubMed_filesList.sort() \n",
    "\n",
    "\n",
    "\n",
    "# we are interested only on annotations set of:  (software_usage and purpose annotations)\n",
    "\n",
    "keep_list = [ 'Application_Creation', 'PlugIn_Creation', 'Application_Deposition', 'PlugIn_Deposition', \n",
    "                     'SoftwareCoreference_Deposition','Application_Mention','ProgrammingEnvironment_Mention',\n",
    "                     'OperatingSystem_Mention', 'PlugIn_Mention','Version','Developer', 'URL', 'License','Citation', 'Abbreviation', \n",
    "                     'AlternativeName', 'Release', 'Extension']\n",
    "\n",
    "\n",
    "merge_list = ['Application_Usage','ProgrammingEnvironment_Usage',\n",
    "                 'PlugIn_Usage','OperatingSystem_Usage', 'Purpose_Analysis',\n",
    "                 'Purpose_Modelling', 'Purpose_Stimulation', \n",
    "                 'Purpose_DataCollection', 'Purpose_DataPreProcss', \n",
    "                 'Purpose_Simulation', 'Purpose_Visualization', 'Purpose_Programming']\n",
    "\n",
    "\n",
    "\n",
    "mergeAnn_dict2 = {}  # stores list of ann to be merged\n",
    "keepAnn_dict2 = {}   # stores list of ann to be kept\n",
    "\n",
    "\n",
    "# loop over each file \n",
    "for indx, file in enumerate(PubMed_filesList[:]):\n",
    "    \n",
    "    # path to each file\n",
    "    file_path = mypath + file\n",
    "    \n",
    "    with open(file_path, \"r\") as a_file:\n",
    "        \n",
    "        \n",
    "        mergAnn_line2 = []  # stores ann line to be merged \n",
    "        keepANn_line2 = []  # stores ann line to be kept \n",
    "        \n",
    "        \n",
    "        # check if the annotation is what we want (usage, purpose, starts with T )\n",
    "        for line in a_file:\n",
    "            \n",
    "            annotataion_type = line.split('\\t')[1].split()[0]  # grab annotation type\n",
    "            \n",
    "            # store annotations to be merged into mergAnn_line\n",
    "            \n",
    "            if (line.startswith('T') & (annotataion_type in merge_list)):\n",
    "                \n",
    "                strStop_lst = line.split('\\t')[1].split()[1:]\n",
    "                \n",
    "                # check if the ann is already in the mergAnn_line\n",
    "                if (strStop_lst) not in mergAnn_line2: \n",
    "                    \n",
    "                    mergAnn_line2.append(line.split('\\t'))\n",
    "                else:\n",
    "                    pass\n",
    "            # store annotations to be kept into mergAnn_line    \n",
    "            else:\n",
    "                keepANn_line2.append(line.split('\\t'))\n",
    "                \n",
    "        \n",
    "        mergeAnn_dict2[file] = mergAnn_line2  \n",
    "        keepAnn_dict2[file] = keepANn_line2"
   ]
  },
  {
   "cell_type": "code",
   "execution_count": null,
   "id": "2ecf82b2",
   "metadata": {},
   "outputs": [],
   "source": []
  },
  {
   "cell_type": "markdown",
   "id": "708287ba",
   "metadata": {},
   "source": [
    "### Merge annotations"
   ]
  },
  {
   "cell_type": "code",
   "execution_count": 11,
   "id": "7f019a94",
   "metadata": {},
   "outputs": [],
   "source": [
    "# stores MERGED LIST of annotations in each file\n",
    "merged_dict2 = {}\n",
    "\n",
    "#stores list of list of all annotations\n",
    "all_annotations_list2 = []\n",
    "\n",
    "\n",
    "# for each file in the dict\n",
    "for key in list(mergeAnn_dict2)[:]:\n",
    "    \n",
    "    # stores list of merged annotations\n",
    "    merged_annotationlist_perfile = []\n",
    "    \n",
    "    #print(key)\n",
    "    \"\"\"\n",
    "    compare all annotations to each other and grab those that share the same \"start number\"\n",
    "    \n",
    "    \"\"\"\n",
    "    \n",
    "    lookup_list1 = []\n",
    "    for ls1 in mergeAnn_dict2.get(key):\n",
    "        \n",
    "        lookup_list2 = []\n",
    "        for ls2 in mergeAnn_dict2.get(key):\n",
    "            \n",
    "            # compare each annotation with another but not to itself\n",
    "            if (ls1 != ls2) :\n",
    "                \n",
    "                r = mergeList(ls1,ls2)\n",
    "                \n",
    "                if (len(r) != 0 ):\n",
    "                    \n",
    "                    if (r[1].split()[1] not in lookup_list1 ) | (r[1].split()[2] not in lookup_list1 ):\n",
    "                        \n",
    "                        merged_annotationlist_perfile.append(r) \n",
    "                        all_annotations_list2.append(r)\n",
    "                            \n",
    "                        lookup_list2.extend(r[1].split()[1:])\n",
    "                            \n",
    "                    else:\n",
    "                        pass\n",
    "        # save already merged list on the lookup list            \n",
    "        lookup_list1.extend(lookup_list2) \n",
    "                    \n",
    "                \n",
    "    merged_dict2[key] = merged_annotationlist_perfile"
   ]
  },
  {
   "cell_type": "markdown",
   "id": "85552cb0",
   "metadata": {},
   "source": [
    "## combine merged annotations with other annotations"
   ]
  },
  {
   "cell_type": "code",
   "execution_count": 12,
   "id": "c5fb7355",
   "metadata": {},
   "outputs": [],
   "source": [
    "combinedAnnotations_PubMed = {}\n",
    "\n",
    "for file in list(merged_dict2)[:]:\n",
    "    \n",
    "    combinedAnnotations_PubMed[file] = merged_dict2.get(file) + keepAnn_dict2.get(file)"
   ]
  },
  {
   "cell_type": "code",
   "execution_count": 13,
   "id": "a5d3ee39",
   "metadata": {},
   "outputs": [],
   "source": [
    "#combinedAnnotations_PubMed.get('PMC3568080.ann')"
   ]
  },
  {
   "cell_type": "markdown",
   "id": "2e14b98d",
   "metadata": {},
   "source": [
    "### Pubmed:  writing merged annotations to  `Pubmed_fulltext_Clean` folder"
   ]
  },
  {
   "cell_type": "code",
   "execution_count": 14,
   "id": "975c955d",
   "metadata": {},
   "outputs": [
    {
     "name": "stdout",
     "output_type": "stream",
     "text": [
      "# of files with Combined annotations: 100\n"
     ]
    }
   ],
   "source": [
    "for file in list(combinedAnnotations_PubMed):\n",
    "    \n",
    "    path2 = 'SoMeSci/Pubmed_fulltext_Clean/'\n",
    "    file_path = path2 + file\n",
    "       \n",
    "    with open(file_path, \"w\") as f1:\n",
    "            \n",
    "        for line in combinedAnnotations_PubMed.get(file):\n",
    " \n",
    "            txt = '\\t'.join(line)\n",
    "            f1.write(txt)\n",
    "\n",
    "print(\"# of files with Combined annotations:\", len(combinedAnnotations_PubMed))"
   ]
  },
  {
   "cell_type": "code",
   "execution_count": null,
   "id": "cb7067bd",
   "metadata": {},
   "outputs": [],
   "source": []
  }
 ],
 "metadata": {
  "kernelspec": {
   "display_name": "Python 3 (ipykernel)",
   "language": "python",
   "name": "python3"
  },
  "language_info": {
   "codemirror_mode": {
    "name": "ipython",
    "version": 3
   },
   "file_extension": ".py",
   "mimetype": "text/x-python",
   "name": "python",
   "nbconvert_exporter": "python",
   "pygments_lexer": "ipython3",
   "version": "3.9.5"
  }
 },
 "nbformat": 4,
 "nbformat_minor": 5
}
