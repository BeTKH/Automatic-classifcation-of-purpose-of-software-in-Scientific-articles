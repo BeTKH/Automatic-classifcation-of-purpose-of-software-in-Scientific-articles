{
 "cells": [
  {
   "cell_type": "code",
   "execution_count": 1,
   "id": "73409161",
   "metadata": {},
   "outputs": [],
   "source": [
    "from pathlib import Path\n",
    "path_tofile = Path('dax/PMC4507865.data.txt')"
   ]
  },
  {
   "cell_type": "code",
   "execution_count": 14,
   "id": "2f56868b",
   "metadata": {},
   "outputs": [],
   "source": [
    "def _read_text_file(path, bef, aft, read_empty=False):\n",
    "    \n",
    "    \n",
    "    def contextWindow(text, bef, aft):\n",
    "        # 0B, OA --- no change\n",
    "        if (bef == 0) and (aft == 0):\n",
    "            return text\n",
    "        \n",
    "        # 0B, 1A --- 2 conditions  \n",
    "        elif (bef == 0) and (aft == 1):\n",
    "            contxt_txt = []\n",
    "            for i in range(len(text)):\n",
    "                # 0B, 1A\n",
    "                if (i >= 0) and (i < len(text)-1):\n",
    "                    contxt_txt.append(text[i] + text[i+1]) \n",
    "                # 0B, 0A\n",
    "                elif i == len(text)-1:\n",
    "                    contxt_txt.append(text[i]) \n",
    "            return contxt_txt\n",
    "            \n",
    "        #OB, 2A --- 3 conditions\n",
    "        elif (bef == 0) and (aft == 2):\n",
    "            contxt_txt = []\n",
    "            for i in range(len(text)):\n",
    "                #OB, 2A\n",
    "                if (i >= 0) and (i <len(text)-2):\n",
    "                    contxt_txt.append(text[i] + text[i+1]+text[i+2])\n",
    "                elif i == (len(text)-2):\n",
    "                    contxt_txt.append(text[i] + text[i+1])\n",
    "                elif i == (len(text)-1):\n",
    "                    contxt_txt.append(text[i])\n",
    "            return contxt_txt\n",
    "        #1B, 0A --- 2 conditions\n",
    "        elif (bef == 1) and (aft == 0):\n",
    "            contxt_txt = []\n",
    "            for i in range(len(text)):\n",
    "                #0B, 0A\n",
    "                if (i == 0):\n",
    "                    contxt_txt.append(text[i])\n",
    "                elif (i >0):\n",
    "                    contxt_txt.append(text[i-1]+text[i])\n",
    "            return contxt_txt\n",
    "    \n",
    "        #1B, 1A --- 3 conditions \n",
    "        elif ( bef == 1 ) and ( aft == 1):\n",
    "            contxt_txt = []\n",
    "            for i in range(len(text)):\n",
    "                if i == 0:   # 0B, 1A\n",
    "                    contxt_txt.append(text[i] + text[i+1])\n",
    "                elif (i > 0) and ( i < len(text)-1):  # 1B ,1A\n",
    "                    contxt_txt.append(text[i-1]+text[i]+text[i+1])\n",
    "                elif (i == len(text)-1):  #1B, 0A\n",
    "                    contxt_txt.append(text[i-1]+text[i])\n",
    "            return contxt_txt\n",
    "    \n",
    "        #1B, 2A --- 4 conditions\n",
    "        elif (bef ==1 ) and (aft == 2):\n",
    "            contxt_txt = []\n",
    "            for i in range(len(text)):\n",
    "                if i ==0:\n",
    "                    contxt_txt.append(text[i]+text[i+1]+text[i+2])                #0B, 2A\n",
    "                elif (i > 0) and (i < len(text)-2):\n",
    "                    contxt_txt.append(text[i-1]+text[i]+text[i+1]+text[i+2])     #1B, 2A\n",
    "                elif (i == len(text)-2):\n",
    "                    contxt_txt.append(text[i-1]+text[i]+text[i+1])               #1B, 1A\n",
    "                elif i == (len(text)-1):\n",
    "                    contxt_txt.append(text[i-1]+text[i])                         #1B,0A\n",
    "            return contxt_txt\n",
    "    \n",
    "        #2B, 0A   -- 3 cases \n",
    "        elif( bef ==2) and ( aft == 0):\n",
    "            contxt_txt = []\n",
    "            for i in range(len(text)):\n",
    "                if i == 0:       \n",
    "                    contxt_txt.append(text[i])         #0B, 0A\n",
    "                elif i == 1:\n",
    "                    contxt_txt.append(text[i-1]+text[i])  #1B, 0A\n",
    "                elif i > 1:\n",
    "                    contxt_txt.append(text[i-2]+text[i-1]+text[i]) #2B, 0A\n",
    "            return contxt_txt\n",
    "    \n",
    "        #2B, 1A -- 3 cases\n",
    "        elif ( bef == 2 ) and (aft == 1):\n",
    "            contxt_txt = []\n",
    "            for i in range(len(text)):\n",
    "                if i ==0: \n",
    "                    contxt_txt.append(text[i]+text[i+1])                     #0B, 1A\n",
    "                elif i ==1:\n",
    "                    contxt_txt.append(text[i-1]+text[i]+text[i+1])           #1B, 1A\n",
    "                elif (i > 1) and (i < len(text)-1):\n",
    "                    contxt_txt.append(text[i-2]+text[i-1]+text[i]+text[i+1]) # 2B, 1A\n",
    "                elif i == len(text)-1:\n",
    "                    contxt_txt.append(text[i-2]+text[i-2]+text[i])           #2B, 0A\n",
    "            return contxt_txt\n",
    "            \n",
    "        #2B, 2A --- 5 conditions\n",
    "        elif (bef == 2) and (aft == 2):        \n",
    "            contxt_txt = []        \n",
    "            for i in range(len(text)):    \n",
    "        \n",
    "                if i == 0:    # 0B, 2A\n",
    "                    contxt_txt.append(text[i] + text[i+1] + text[i+2]) \n",
    "                elif i == 1:  # 1B, 2A\n",
    "                    contxt_txt.append(text[i-1] + text[i] + text[i+1] + text[i+2]) \n",
    "                elif (i >=2) and (i < len(text)-2):   # 2B , 2A \n",
    "                    contxt_txt.append(text[i-2] + text[i-1] + text[i] + text[i+1] + text[i+2]) \n",
    "                elif  (i == len(text)-2):             #2B, 1A\n",
    "                    contxt_txt.append(text[i-2] + text[i-1] + text[i] + text[i+1])\n",
    "                elif i == len(text)-1:                #2B, 0A  \n",
    "                    contxt_txt.append(text[i-2] + text[i-1] + text[i])            \n",
    "            return contxt_txt\n",
    "    \n",
    "    text = []\n",
    "    with path.open(mode='r') as in_f:\n",
    "        for line in in_f:\n",
    "            clean_line = line.rstrip()\n",
    "            if clean_line:\n",
    "                text.append(clean_line)\n",
    "            elif read_empty:\n",
    "                text.append([])\n",
    "                \n",
    "    return contextWindow(text, bef, aft)"
   ]
  },
  {
   "cell_type": "code",
   "execution_count": 16,
   "id": "90dbe374",
   "metadata": {},
   "outputs": [],
   "source": [
    "x = _read_text_file(path_tofile,2,2)"
   ]
  },
  {
   "cell_type": "code",
   "execution_count": 21,
   "id": "3eca119b",
   "metadata": {},
   "outputs": [
    {
     "data": {
      "text/plain": [
       "52"
      ]
     },
     "execution_count": 21,
     "metadata": {},
     "output_type": "execute_result"
    }
   ],
   "source": [
    "len(x)"
   ]
  },
  {
   "cell_type": "code",
   "execution_count": 18,
   "id": "4464efa3",
   "metadata": {},
   "outputs": [],
   "source": [
    "from pathlib import Path\n",
    "path_tofile = Path('dax/PMC4507865.data.txt')\n",
    "\n",
    "path_tofile\n",
    "\n",
    "text_data = [] \n",
    "\n",
    "with path_tofile.open(mode='r') as in_f:\n",
    "    for line in in_f:\n",
    "        \n",
    "        clean_line = line.rstrip()\n",
    "        if clean_line:\n",
    "            text_data.append(clean_line)\n",
    "        elif read_empty:\n",
    "            text_data.append([])"
   ]
  },
  {
   "cell_type": "code",
   "execution_count": 22,
   "id": "e03c9bb7",
   "metadata": {},
   "outputs": [
    {
     "data": {
      "text/plain": [
       "52"
      ]
     },
     "execution_count": 22,
     "metadata": {},
     "output_type": "execute_result"
    }
   ],
   "source": [
    "len(text_data)"
   ]
  },
  {
   "cell_type": "code",
   "execution_count": 23,
   "id": "8b47cce7",
   "metadata": {},
   "outputs": [
    {
     "data": {
      "text/plain": [
       "['Study sites and data collection : Study sites and monthly meteorological data collection have previously been described [19] .',\n",
       " 'The sites were composed of 13 districts : Banan , Changshou , Fengdu , Fengjie , Fuling , Kaixian , Wanzhou , Shizhu , Wulong , Wushan , Yubei , Yunyang and Zhongxian .',\n",
       " 'These districts are located along the Yangtze River ( Fig 1 ) .',\n",
       " 'Figure data removed from full text .',\n",
       " 'Figure identifier and caption : 10.1371/journal.pone.0133218.g001 Spatial distribution of HFRS occurrence from 1997 to 2008.WS : Wushan ; FJ : Fengjie ; YY : Yunyang ; KX : Kaixian ; WZ : Wanzhou ; SZ : Shizhu ; ZX : Zhongxian ; FD : Fengdu ; WL : Wulong ; FL : Fuling ; CS : Changshou ; YB : Yubei ; BN : Banan .']"
      ]
     },
     "execution_count": 23,
     "metadata": {},
     "output_type": "execute_result"
    }
   ],
   "source": [
    "text_data[:5]"
   ]
  },
  {
   "cell_type": "code",
   "execution_count": 25,
   "id": "24636fad",
   "metadata": {},
   "outputs": [
    {
     "data": {
      "text/plain": [
       "'Study sites and data collection : Study sites and monthly meteorological data collection have previously been described [19] .The sites were composed of 13 districts : Banan , Changshou , Fengdu , Fengjie , Fuling , Kaixian , Wanzhou , Shizhu , Wulong , Wushan , Yubei , Yunyang and Zhongxian .These districts are located along the Yangtze River ( Fig 1 ) .'"
      ]
     },
     "execution_count": 25,
     "metadata": {},
     "output_type": "execute_result"
    }
   ],
   "source": [
    "x[0]"
   ]
  },
  {
   "cell_type": "code",
   "execution_count": null,
   "id": "ba5479d2",
   "metadata": {},
   "outputs": [],
   "source": []
  },
  {
   "cell_type": "code",
   "execution_count": 6,
   "id": "b139ebf4",
   "metadata": {},
   "outputs": [],
   "source": [
    "def contextWindow(txt_list, bef, aft):\n",
    "    \n",
    "    # 0B, OA --- no change\n",
    "    if (bef == 0) and (aft == 0):\n",
    "        \n",
    "        return txt_list\n",
    "    \n",
    "    \n",
    "    # 0B, 1A --- 2 conditions  \n",
    "    elif (bef == 0) and (aft == 1):\n",
    "        contxt_txt = []\n",
    "        for i in range(len(text)):\n",
    "            # 0B, 1A\n",
    "            if (i >= 0) and (i < len(text)-1):\n",
    "                contxt_txt.append(text[i] + text[i+1]) \n",
    "            # 0B, 0A\n",
    "            elif i == len(text)-1:\n",
    "                contxt_txt.append(text[i]) \n",
    "        return contxt_txt\n",
    "    #OB, 2A --- 3 conditions\n",
    "    elif (bef == 0) and (aft == 2):\n",
    "        contxt_txt = []\n",
    "        for i in range(len(text)):\n",
    "            #OB, 2A\n",
    "            if (i >= 0) and (i <len(text)-2):\n",
    "                contxt_txt.append(text[i] + text[i+1]+text[i+2])\n",
    "            elif i == (len(text)-2):\n",
    "                contxt_txt.append(text[i] + text[i+1])\n",
    "            elif i == (len(text)-1):\n",
    "                contxt_txt.append(text[i])\n",
    "        return contxt_txt\n",
    "    #1B, 0A --- 2 conditions\n",
    "    elif (bef == 1) and (aft == 0):\n",
    "        contxt_txt = []\n",
    "        for i in range(len(text)):\n",
    "            #0B, 0A\n",
    "            if (i == 0):\n",
    "                contxt_txt.append(text[i])\n",
    "            elif (i >0):\n",
    "                contxt_txt.append(text[i-1]+text[i])\n",
    "        return contxt_txt\n",
    "    \n",
    "    #1B, 1A --- 3 conditions \n",
    "    elif ( bef == 1 ) and ( aft == 1):\n",
    "        contxt_txt = []\n",
    "        for i in range(len(text)):\n",
    "            if i == 0:   # 0B, 1A\n",
    "                contxt_txt.append(text[i] + text[i+1])\n",
    "            elif (i > 0) and ( i < len(text)-1):  # 1B ,1A\n",
    "                contxt_txt.append(text[i-1]+text[i]+text[i+1])\n",
    "            elif (i == len(text)-1):  #1B, 0A\n",
    "                contxt_txt.append(text[i-1]+text[i])\n",
    "        return contxt_txt\n",
    "    \n",
    "    #1B, 2A --- 4 conditions\n",
    "    elif (bef ==1 ) and (aft == 2):\n",
    "        contxt_txt = []\n",
    "        for i in range(len(text)):\n",
    "            if i ==0:\n",
    "                contxt_txt.append(text[i]+text[i+1]+text[i+2])                #0B, 2A\n",
    "            elif (i > 0) and (i < len(text)-2):\n",
    "                contxt_txt.append(text[i-1]+text[i]+text[i+1]+text[i+2])     #1B, 2A\n",
    "            elif (i == len(text)-2):\n",
    "                contxt_txt.append(text[i-1]+text[i]+text[i+1])               #1B, 1A\n",
    "            elif i == (len(text)-1):\n",
    "                contxt_txt.append(text[i-1]+text[i])                         #1B,0A\n",
    "        return contxt_txt\n",
    "    \n",
    "    #2B, 0A   -- 3 cases \n",
    "    elif( bef ==2) and ( aft == 0):\n",
    "        contxt_txt = []\n",
    "        for i in range(len(text)):\n",
    "            if i == 0:       \n",
    "                contxt_txt.append(text[i])         #0B, 0A\n",
    "            elif i == 1:\n",
    "                contxt_txt.append(text[i-1]+text[i])  #1B, 0A\n",
    "            elif i > 1:\n",
    "                contxt_txt.append(text[i-2]+text[i-1]+text[i]) #2B, 0A\n",
    "        return contxt_txt\n",
    "    \n",
    "    #2B, 1A -- 3 cases\n",
    "    elif ( bef == 2 ) and (aft == 1):\n",
    "        contxt_txt = []\n",
    "        for i in range(len(text)):\n",
    "            if i ==0: \n",
    "                contxt_txt.append(text[i]+text[i+1])                     #0B, 1A\n",
    "            elif i ==1:\n",
    "                contxt_txt.append(text[i-1]+text[i]+text[i+1])           #1B, 1A\n",
    "            elif (i > 1) and (i < len(text)-1):\n",
    "                contxt_txt.append(text[i-2]+text[i-1]+text[i]+text[i+1]) # 2B, 1A\n",
    "            elif i == len(text)-1:\n",
    "                contxt_txt.append(text[i-2]+text[i-2]+text[i])           #2B, 0A\n",
    "        return contxt_txt\n",
    "            \n",
    "    #2B, 2A --- 5 conditions\n",
    "    elif (bef == 2) and (aft == 2):        \n",
    "        contxt_txt = []        \n",
    "        for i in range(len(text)):    \n",
    "        \n",
    "            if i == 0:    # 0B, 2A\n",
    "                contxt_txt.append(text[i] + text[i+1] + text[i+2]) \n",
    "            elif i == 1:  # 1B, 2A\n",
    "                contxt_txt.append(text[i-1] + text[i] + text[i+1] + text[i+2]) \n",
    "            elif (i >=2) and (i < len(text)-2):   # 2B , 2A \n",
    "                contxt_txt.append(text[i-2] + text[i-1] + text[i] + text[i+1] + text[i+2]) \n",
    "            elif  (i == len(text)-2):             #2B, 1A\n",
    "                contxt_txt.append(text[i-2] + text[i-1] + text[i] + text[i+1])\n",
    "            elif i == len(text)-1:                #2B, 0A  \n",
    "                contxt_txt.append(text[i-2] + text[i-1] + text[i])            \n",
    "        return contxt_txt"
   ]
  },
  {
   "cell_type": "code",
   "execution_count": 7,
   "id": "9dc29b62",
   "metadata": {},
   "outputs": [],
   "source": [
    "res_ = contextWindow(text, 0, 1)\n",
    "res_data = contextWindow(text_data, 0, 1)"
   ]
  },
  {
   "cell_type": "code",
   "execution_count": 8,
   "id": "5798c94f",
   "metadata": {},
   "outputs": [
    {
     "name": "stdout",
     "output_type": "stream",
     "text": [
      "context window labels 0, 0, 52\n",
      "context window labels 0, 0, 52\n",
      "context window labels 0, 0, 52\n",
      "context window labels 0, 0, 52\n",
      "context window labels 0, 0, 52\n",
      "context window labels 0, 0, 52\n",
      "context window labels 0, 0, 52\n",
      "context window labels 0, 0, 52\n",
      "context window labels 0, 0, 52\n",
      "context window txt data 0, 0, 52\n",
      "context window txt data 0, 0, 52\n",
      "context window txt data 0, 0, 52\n",
      "context window txt data 0, 0, 52\n",
      "context window txt data 0, 0, 52\n",
      "context window txt data 0, 0, 52\n",
      "context window txt data 0, 0, 52\n",
      "context window txt data 0, 0, 52\n",
      "context window txt data 0, 0, 52\n"
     ]
    }
   ],
   "source": [
    "print(f'context window labels 0, 0, {len(contextWindow(text, 0, 0))}')\n",
    "print(f'context window labels 0, 0, {len(contextWindow(text, 0, 1))}')\n",
    "print(f'context window labels 0, 0, {len(contextWindow(text, 0, 2))}')\n",
    "print(f'context window labels 0, 0, {len(contextWindow(text, 1, 0))}')\n",
    "print(f'context window labels 0, 0, {len(contextWindow(text, 1, 1))}')\n",
    "print(f'context window labels 0, 0, {len(contextWindow(text, 1, 2))}')\n",
    "print(f'context window labels 0, 0, {len(contextWindow(text, 2, 0))}')\n",
    "print(f'context window labels 0, 0, {len(contextWindow(text, 2, 1))}')\n",
    "print(f'context window labels 0, 0, {len(contextWindow(text, 2, 2))}')\n",
    "\n",
    "print(f'context window txt data 0, 0, {len(contextWindow(text_data, 0, 0))}')\n",
    "print(f'context window txt data 0, 0, {len(contextWindow(text_data, 0, 1))}')\n",
    "print(f'context window txt data 0, 0, {len(contextWindow(text_data, 0, 2))}')\n",
    "print(f'context window txt data 0, 0, {len(contextWindow(text_data, 1, 0))}')\n",
    "print(f'context window txt data 0, 0, {len(contextWindow(text_data, 1, 1))}')\n",
    "print(f'context window txt data 0, 0, {len(contextWindow(text_data, 1, 2))}')\n",
    "print(f'context window txt data 0, 0, {len(contextWindow(text_data, 2, 0))}')\n",
    "print(f'context window txt data 0, 0, {len(contextWindow(text_data, 2, 1))}')\n",
    "print(f'context window txt data 0, 0, {len(contextWindow(text_data, 2, 2))}')"
   ]
  },
  {
   "cell_type": "code",
   "execution_count": 13,
   "id": "bd17a893",
   "metadata": {},
   "outputs": [
    {
     "data": {
      "text/plain": [
       "'Also , we studied model fitting with log - likelihood ( or equivalently , deviance ) and examine basic model assumptions with model diagnostic plots .'"
      ]
     },
     "execution_count": 13,
     "metadata": {},
     "output_type": "execute_result"
    }
   ],
   "source": [
    "text_data[51]"
   ]
  },
  {
   "cell_type": "code",
   "execution_count": 14,
   "id": "ba31c141",
   "metadata": {},
   "outputs": [
    {
     "data": {
      "text/plain": [
       "'O O O O O O O O O O O O O O O O O O O O O O O O O O'"
      ]
     },
     "execution_count": 14,
     "metadata": {},
     "output_type": "execute_result"
    }
   ],
   "source": [
    "text[51]"
   ]
  },
  {
   "cell_type": "code",
   "execution_count": null,
   "id": "2d7628ce",
   "metadata": {},
   "outputs": [],
   "source": []
  }
 ],
 "metadata": {
  "kernelspec": {
   "display_name": "Python 3 (ipykernel)",
   "language": "python",
   "name": "python3"
  },
  "language_info": {
   "codemirror_mode": {
    "name": "ipython",
    "version": 3
   },
   "file_extension": ".py",
   "mimetype": "text/x-python",
   "name": "python",
   "nbconvert_exporter": "python",
   "pygments_lexer": "ipython3",
   "version": "3.8.10"
  }
 },
 "nbformat": 4,
 "nbformat_minor": 5
}
