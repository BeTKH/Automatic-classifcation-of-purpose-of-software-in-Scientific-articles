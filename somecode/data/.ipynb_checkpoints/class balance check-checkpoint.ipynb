{
 "cells": [
  {
   "cell_type": "markdown",
   "id": "75f1ccff",
   "metadata": {},
   "source": [
    "## PLoS_methods_bio before split"
   ]
  },
  {
   "cell_type": "code",
   "execution_count": 1,
   "id": "d98c6114",
   "metadata": {},
   "outputs": [],
   "source": [
    "def purposeLabel_counter(path):\n",
    "    \n",
    "    import os\n",
    "    from os import listdir \n",
    "    from collections import Counter\n",
    "    \n",
    "    \n",
    "    def list_file_names(path, file_ext='.labels.txt'):\n",
    "    \n",
    "        file_names_list = []\n",
    "\n",
    "        for file_name in os.listdir(path):\n",
    "            if not file_name.endswith(file_ext): continue\n",
    "            file_names_list.append(file_name) \n",
    "\n",
    "        file_names_list.sort()\n",
    "\n",
    "        return file_names_list\n",
    "    \n",
    "    file_name_list = list_file_names(path)\n",
    "    \n",
    "    interest_list = [\"Analysis\", \"Modelling\", \"Stimulation\", \"DataCollection\", \"DataPreProcss\", \n",
    "                 \"Simulation\", \"Visualization\", \"Programming\"]\n",
    "    \n",
    "    all_purpose_labels = []\n",
    "    \n",
    "    for file_name in file_name_list[:]:\n",
    "        file_path = path + file_name\n",
    "        \n",
    "        with open(file_path, 'r') as f:\n",
    "            \n",
    "            list_lines = f.readlines()\n",
    "            \n",
    "            #print(list_of_lebs)\n",
    "            list_of_tokens = ' '.join(list_lines).split()\n",
    "            \n",
    "            for tok in list_of_tokens:\n",
    "                if tok != 'O' and (len(tok.split('-')[1].split('_')) == 3 ):\n",
    "                    if tok.split('-')[1].split('_')[2] in interest_list:\n",
    "                        \n",
    "                        purpose = tok.split('-')[1].split('_')[2]\n",
    "                        \n",
    "                        all_purpose_labels.append(purpose)\n",
    "    \n",
    "                        \n",
    "    return  dict(Counter(all_purpose_labels))"
   ]
  },
  {
   "cell_type": "markdown",
   "id": "57a5ca70",
   "metadata": {},
   "source": [
    "## PLoS_methods_bio"
   ]
  },
  {
   "cell_type": "code",
   "execution_count": 2,
   "id": "3d9a0e6e",
   "metadata": {},
   "outputs": [],
   "source": [
    "def train_test_dev(whole_path, train_path, test_path, dev_path):\n",
    "    \n",
    "    _whole = purposeLabel_counter(whole_path)\n",
    "    _train = purposeLabel_counter(train_path)\n",
    "    _test  = purposeLabel_counter(test_path)\n",
    "    _dev   = purposeLabel_counter(dev_path)\n",
    "    \n",
    "    \n",
    "    \n",
    "    _whole_sorted = dict(sorted(_whole.items()))\n",
    "    _train_sorted = dict(sorted(_train.items()))\n",
    "    _test_sorted  = dict(sorted(_test.items()))\n",
    "    _dev_sorted   = dict(sorted(_dev.items()))\n",
    "    \n",
    "    return _whole_sorted, _train_sorted, _test_sorted, _dev_sorted"
   ]
  },
  {
   "cell_type": "code",
   "execution_count": 3,
   "id": "b95d5b6e",
   "metadata": {},
   "outputs": [],
   "source": [
    "# plos methods bio   train , test , dev\n",
    "\n",
    "path_whole = '/home/beck/Desktop/SoMeNLP/data/PLoS_methods_bio/'\n",
    "\n",
    "path_train = \"/home/beck/Desktop/SoMeNLP/data/PLoS_methods/PLoS_methods_bio_train/\" \n",
    "\n",
    "path_test = \"/home/beck/Desktop/SoMeNLP/data/PLoS_methods/PLoS_methods_bio_test/\" \n",
    "\n",
    "path_test = \"/home/beck/Desktop/SoMeNLP/data/PLoS_methods/PLoS_methods_bio_devel/\"\n",
    "\n",
    "\n",
    "\n",
    "whole, train, test, dev = train_test_dev(path_whole, \n",
    "                                         path_train, \n",
    "                                         path_test, \n",
    "                                         path_test)"
   ]
  },
  {
   "cell_type": "code",
   "execution_count": 4,
   "id": "66a19bdd",
   "metadata": {},
   "outputs": [
    {
     "name": "stdout",
     "output_type": "stream",
     "text": [
      " Analysis        |        614 | Analysis       |  1127  train percentage :  54.48\n",
      " DataCollection  |         90 | DataCollection |   196  train percentage :  45.92\n",
      " DataPreProcss   |        102 | DataPreProcss  |   261  train percentage :  39.08\n",
      " Modelling       |        100 | Modelling      |   203  train percentage :  49.26\n",
      " Programming     |         24 | Programming    |    64  train percentage :  37.50\n",
      " Simulation      |          9 | Simulation     |    24  train percentage :  37.50\n",
      " Stimulation     |         51 | Stimulation    |    71  train percentage :  71.83\n",
      " Visualization   |         43 | Visualization  |    89  train percentage :  48.31\n"
     ]
    }
   ],
   "source": [
    "# train percentage 60%\n",
    "\n",
    "for (k,v), (k2,v2) in zip(whole.items(), train.items()):\n",
    "    if k2 == k:\n",
    "        print(f\" {k2 :{15}} | {v2 : {10}} | {k:{15}}| {v:{5}}  train percentage : {v2/v*100: .2f}\")\n",
    "    "
   ]
  },
  {
   "cell_type": "code",
   "execution_count": 5,
   "id": "03ad5c5f",
   "metadata": {},
   "outputs": [
    {
     "name": "stdout",
     "output_type": "stream",
     "text": [
      " Analysis        |        179 | Analysis       |  1127  train percentage :  15.88\n",
      " DataCollection  |         33 | DataCollection |   196  train percentage :  16.84\n",
      " DataPreProcss   |         45 | DataPreProcss  |   261  train percentage :  17.24\n",
      " Modelling       |         43 | Modelling      |   203  train percentage :  21.18\n",
      " Programming     |         19 | Programming    |    64  train percentage :  29.69\n",
      " Simulation      |          4 | Simulation     |    24  train percentage :  16.67\n",
      " Stimulation     |          4 | Stimulation    |    71  train percentage :  5.63\n",
      " Visualization   |         26 | Visualization  |    89  train percentage :  29.21\n"
     ]
    }
   ],
   "source": [
    "# test percentage 20%\n",
    "\n",
    "for (k,v), (k2,v2) in zip(whole.items(), test.items()):\n",
    "    if k2 == k:\n",
    "        print(f\" {k2 :{15}} | {v2 : {10}} | {k:{15}}| {v:{5}}  train percentage : {v2/v*100: .2f}\")"
   ]
  },
  {
   "cell_type": "code",
   "execution_count": 6,
   "id": "feb8577f",
   "metadata": {},
   "outputs": [
    {
     "name": "stdout",
     "output_type": "stream",
     "text": [
      " Analysis        |        179 | Analysis       |  1127  train percentage :  15.88\n",
      " DataCollection  |         33 | DataCollection |   196  train percentage :  16.84\n",
      " DataPreProcss   |         45 | DataPreProcss  |   261  train percentage :  17.24\n",
      " Modelling       |         43 | Modelling      |   203  train percentage :  21.18\n",
      " Programming     |         19 | Programming    |    64  train percentage :  29.69\n",
      " Simulation      |          4 | Simulation     |    24  train percentage :  16.67\n",
      " Stimulation     |          4 | Stimulation    |    71  train percentage :  5.63\n",
      " Visualization   |         26 | Visualization  |    89  train percentage :  29.21\n"
     ]
    }
   ],
   "source": [
    "# dev percentage 20%\n",
    "\n",
    "for (k,v), (k2,v2) in zip(whole.items(), dev.items()):\n",
    "    if k2 == k:\n",
    "        print(f\" {k2 :{15}} | {v2 : {10}} | {k:{15}}| {v:{5}}  train percentage : {v2/v*100: .2f}\")"
   ]
  },
  {
   "cell_type": "code",
   "execution_count": 7,
   "id": "ca738974",
   "metadata": {},
   "outputs": [],
   "source": [
    "def _is_train_set_NOT_proportional(whole, train):\n",
    "    \n",
    "    is_not_proportional = False\n",
    "    \n",
    "    for (k,v), (k2,v2) in zip(whole.items(), train.items()):\n",
    "        if k2 == k: \n",
    "            train_percentage = v2 / v * 100\n",
    "            \n",
    "            if train_percentage < 55: \n",
    "                \n",
    "                print(f\"Train data split is {int(train_percentage)}% below -5%, for purpose {k2} splitting again\")\n",
    "                \n",
    "                is_not_proportional = True\n",
    "                return is_not_proportional\n",
    "                \n",
    "            elif train_percentage > 65:\n",
    "                print(f\"Train data split is {int(train_percentage)}% over +5 %, for {k2} purpose splitting again\")\n",
    "                \n",
    "                is_not_proportional = True\n",
    "                return is_not_proportional\n",
    "                \n",
    "            else:\n",
    "                #print(f\"Train data split is {int(train_percentage)}% and within +/-5 % for purpose {k2}\")\n",
    "                pass \n",
    "            \n",
    "    return is_not_proportional"
   ]
  },
  {
   "cell_type": "code",
   "execution_count": 8,
   "id": "f05e6fcd",
   "metadata": {},
   "outputs": [],
   "source": [
    "def _is_test_set_NOT_proportional(whole, test):\n",
    "    \n",
    "    is_not_proportional = False\n",
    "    \n",
    "    for (k,v), (k2,v2) in zip(whole.items(), test.items()):\n",
    "        if k2 == k: \n",
    "            test_percentage = v2 / v * 100\n",
    "            \n",
    "            if test_percentage < 15: \n",
    "                \n",
    "                print(f\"Test data split is {int(test_percentage)}% below -5%, for purpose {k2} splitting again\")\n",
    "                \n",
    "                is_not_proportional = True\n",
    "                return is_not_proportional\n",
    "                \n",
    "            elif test_percentage > 25:\n",
    "                print(f\"Test data split is {int(test_percentage)}% over +5 %, for purpose {k2} splitting again\")\n",
    "                \n",
    "                is_not_proportional = True\n",
    "                return is_not_proportional\n",
    "            \n",
    "            else:\n",
    "                #print(f\"Test data split is {test_percentage: .2f} and within +/-5 % for purpose {k2}\")\n",
    "                pass\n",
    "                \n",
    "    return  is_not_proportional"
   ]
  },
  {
   "cell_type": "code",
   "execution_count": 15,
   "id": "3712f0cf",
   "metadata": {},
   "outputs": [],
   "source": [
    "def _is_dev_set_NOT_proportional(whole, dev):\n",
    "    \n",
    "    is_not_proportional = False\n",
    "    \n",
    "    for (k,v), (k2,v2) in zip(whole.items(), dev.items()):\n",
    "        if k2 == k: \n",
    "            dev_percentage = v2 / v * 100\n",
    "            \n",
    "            if dev_percentage < 15: \n",
    "                print(f\"Dev data split is {int(dev_percentage)}% below -5%, for purpose {k2} splitting again\")\n",
    "                \n",
    "                is_not_proportional = True\n",
    "                return is_not_proportional\n",
    "                \n",
    "            elif dev_percentage > 25:\n",
    "                print(f\"Dev data splt is {int(dev_percentage)}% over +5 %, for purpose {k2} splitting again\")\n",
    "                \n",
    "                is_not_proportional = True\n",
    "                return is_not_proportional\n",
    "            \n",
    "            elif (dev_percentage >= 15) and (dev_percentage <= 25):\n",
    "               \n",
    "                #print(f\"Dev data split is {int(dev_percentage)}% and within  +/- 5%, for purpose {k2}\")\n",
    "                pass\n",
    "    return is_not_proportional"
   ]
  },
  {
   "cell_type": "code",
   "execution_count": null,
   "id": "4d6dacdf",
   "metadata": {},
   "outputs": [],
   "source": []
  },
  {
   "cell_type": "code",
   "execution_count": 10,
   "id": "6e96d357",
   "metadata": {},
   "outputs": [
    {
     "name": "stdout",
     "output_type": "stream",
     "text": [
      "Dev data splt is 29% over +5 %, for purpose Programming splitting again\n",
      "Test data split is 29% over +5 %, for purpose Programming splitting again\n",
      "Train data split is 54% below -5%, for purpose Analysis splitting again\n"
     ]
    }
   ],
   "source": [
    "d = _is_dev_set_NOT_proportional(whole, dev)\n",
    "t = _is_test_set_NOT_proportional(whole, test)\n",
    "tr = _is_train_set_NOT_proportional(whole, train)"
   ]
  },
  {
   "cell_type": "code",
   "execution_count": 14,
   "id": "5af30aed",
   "metadata": {},
   "outputs": [
    {
     "name": "stdout",
     "output_type": "stream",
     "text": [
      "True True True\n"
     ]
    }
   ],
   "source": [
    "print(d, t, tr)"
   ]
  },
  {
   "cell_type": "code",
   "execution_count": 12,
   "id": "3c7815dc",
   "metadata": {},
   "outputs": [],
   "source": [
    "def calculate_split_percentage(whole, train, test, dev):\n",
    "    \n",
    "    train_not_proportional = _is_train_set_NOT_proportional(whole, train)\n",
    "    test_not_proportional  = _is_test_set_NOT_proportional(whole, test)\n",
    "    dev_not_proportional   = _is_dev_set_NOT_proportional(whole, dev)\n",
    "    \n",
    "    # if any of train, test or dev is not within +/5 split again\n",
    "    \n",
    "    if (train_not_proportional or test_not_proportional dev_not_proportional):\n",
    "        \n",
    "    \n",
    "    "
   ]
  },
  {
   "cell_type": "code",
   "execution_count": null,
   "id": "c7f35030",
   "metadata": {},
   "outputs": [],
   "source": []
  },
  {
   "cell_type": "code",
   "execution_count": null,
   "id": "618ab71c",
   "metadata": {},
   "outputs": [],
   "source": []
  },
  {
   "cell_type": "code",
   "execution_count": null,
   "id": "1367f66c",
   "metadata": {},
   "outputs": [],
   "source": []
  }
 ],
 "metadata": {
  "kernelspec": {
   "display_name": "Python 3 (ipykernel)",
   "language": "python",
   "name": "python3"
  },
  "language_info": {
   "codemirror_mode": {
    "name": "ipython",
    "version": 3
   },
   "file_extension": ".py",
   "mimetype": "text/x-python",
   "name": "python",
   "nbconvert_exporter": "python",
   "pygments_lexer": "ipython3",
   "version": "3.8.10"
  }
 },
 "nbformat": 4,
 "nbformat_minor": 5
}
