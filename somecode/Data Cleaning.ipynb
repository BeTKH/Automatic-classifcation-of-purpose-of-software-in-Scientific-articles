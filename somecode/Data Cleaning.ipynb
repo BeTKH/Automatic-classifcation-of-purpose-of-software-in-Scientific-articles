{
 "cells": [
  {
   "cell_type": "markdown",
   "id": "27692a5c",
   "metadata": {},
   "source": [
    "## 1. Cleaning up the data: \n",
    "\n",
    "Goals:\n",
    "- Remove mentions\n",
    "- Keep application type (might improve the algorithm)\n",
    "- make sure all software usage purposes have annotation\n",
    "\n",
    "\n",
    "\n",
    "- as a first step automatically generate a list of:\n",
    "\n",
    "1. all software usage statements that are not annotated and  \n",
    "2. all software mentions that are annotated. \n",
    "\n",
    "We can then have a meeting to discuss those cases. Hopefully this will also improve the original annotation."
   ]
  },
  {
   "cell_type": "code",
   "execution_count": 1,
   "id": "391234f9",
   "metadata": {},
   "outputs": [],
   "source": [
    "import os\n",
    "from os import listdir\n",
    "from os.path import isfile, join"
   ]
  },
  {
   "cell_type": "code",
   "execution_count": 2,
   "id": "dce32a69",
   "metadata": {},
   "outputs": [],
   "source": [
    "path = \"SoMeSci/PLoS_methods/\"\n",
    "onlyfiles = [f for f in listdir(path) if isfile(join(path, f))]"
   ]
  },
  {
   "cell_type": "code",
   "execution_count": 3,
   "id": "1bf355cf",
   "metadata": {},
   "outputs": [],
   "source": [
    "mypath = \"SoMeSci/PLoS_methods/\"\n",
    "\n",
    "ann_filesList = []\n",
    "  \n",
    "\n",
    "# iterating over all files in the dir\n",
    "for file_name in os.listdir(mypath):\n",
    "    \n",
    "    # if the file is .ann\n",
    "    if file_name.endswith('.ann'):\n",
    "        ann_filesList.append(file_name)\n",
    "    else:\n",
    "        continue"
   ]
  },
  {
   "cell_type": "code",
   "execution_count": 4,
   "id": "b85d7d53",
   "metadata": {},
   "outputs": [
    {
     "data": {
      "text/plain": [
       "480"
      ]
     },
     "execution_count": 4,
     "metadata": {},
     "output_type": "execute_result"
    }
   ],
   "source": [
    "len(ann_filesList)"
   ]
  },
  {
   "cell_type": "code",
   "execution_count": null,
   "id": "7eb28c4d",
   "metadata": {},
   "outputs": [],
   "source": [
    "#### merge all lines start with T that have exactly the same numbers into one line\n",
    "\n",
    "\n",
    "# pseudo code: \n",
    "    \n",
    "# for each ann file:\n",
    "# for each line\n",
    "# if line starts with T: append split line into 5 parts (ID, annotation, start,, end, text) and check whether there was an entry for this start, end before. (text should be the same)\n",
    "# if so merge both to one line (ID, annottation1_annotation2 start end text)\n",
    "# write all lines except the two merged"
   ]
  },
  {
   "cell_type": "code",
   "execution_count": 57,
   "id": "d34ab10a",
   "metadata": {},
   "outputs": [
    {
     "name": "stdout",
     "output_type": "stream",
     "text": [
      "['T1', 'Application_Usage', '1983', '1992', 'Structure']\n",
      "['T2', 'Application_Usage', '2006', '2014', 'ADMIXMAP']\n",
      "['T3', 'Version', '1993', '1996', '2.2']\n",
      "['T4', 'Citation', '1997', '2001', '[71]']\n",
      "['T5', 'Citation', '2015', '2019', '[72]']\n",
      "['T6', 'Application_Mention', '2229', '2238', 'Structure']\n",
      "['T7', 'Application_Mention', '2243', '2251', 'ADMIXMAP']\n",
      "['T8', 'Purpose_Modelling', '1983', '1992', 'Structure']\n",
      "['T9', 'Purpose_Modelling', '2006', '2014', 'ADMIXMAP']\n"
     ]
    }
   ],
   "source": [
    "\n",
    "\n",
    "# open a file\n",
    "with open(\"SoMeSci/PLoS_methods/PMC2731885.ann\", \"r\") as a_file:\n",
    "    \n",
    "    annotation_list = []\n",
    "    # for a line in the file\n",
    "    for line in a_file:\n",
    "        \n",
    "        \n",
    "        #if the line starts with T --is annotation file\n",
    "        if (line.startswith('T')):\n",
    "            \n",
    "            # print the line\n",
    "            #print(line)\n",
    "            \n",
    "            print(line.split())\n",
    "            #print(line.split()[2:4])\n",
    "            \n",
    "            if ( line.split()[2:4] ) not in annotation_list:\n",
    "                annotation_list.append(line.split())\n",
    "            else:\n",
    "                pass\n",
    "            #annotation_list.append(line.split())\n",
    "            #break"
   ]
  },
  {
   "cell_type": "code",
   "execution_count": null,
   "id": "de872f26",
   "metadata": {},
   "outputs": [],
   "source": []
  },
  {
   "cell_type": "code",
   "execution_count": 79,
   "id": "87d5d434",
   "metadata": {},
   "outputs": [
    {
     "data": {
      "text/plain": [
       "[('T1', 'T8'),\n",
       " ('Application_Usage', 'Purpose_Modelling'),\n",
       " ('1983', '1983'),\n",
       " ('1992', '1992'),\n",
       " ('Structure', 'Structure')]"
      ]
     },
     "execution_count": 79,
     "metadata": {},
     "output_type": "execute_result"
    }
   ],
   "source": [
    "x = ['T1', 'Application_Usage', '1983', '1992', 'Structure']\n",
    "y = ['T8', 'Purpose_Modelling', '1983', '1992', 'Structure']\n",
    "\n",
    "z = list(zip(x,y))\n",
    "z"
   ]
  },
  {
   "cell_type": "code",
   "execution_count": 86,
   "id": "f23ef4a5",
   "metadata": {},
   "outputs": [
    {
     "name": "stdout",
     "output_type": "stream",
     "text": [
      "('T1', 'T8')\n",
      "('Application_Usage', 'Purpose_Modelling')\n",
      "('1983', '1983')\n",
      "('1992', '1992')\n",
      "('Structure', 'Structure')\n"
     ]
    }
   ],
   "source": [
    "for tup_ in z:\n",
    "    print(tup_)"
   ]
  },
  {
   "cell_type": "code",
   "execution_count": 89,
   "id": "482c274d",
   "metadata": {},
   "outputs": [
    {
     "name": "stdout",
     "output_type": "stream",
     "text": [
      "0 ('T1', 'T8')\n",
      "1 ('Application_Usage', 'Purpose_Modelling')\n",
      "2 ('1983', '1983')\n",
      "3 ('1992', '1992')\n",
      "4 ('Structure', 'Structure')\n"
     ]
    }
   ],
   "source": [
    "for idx, val in enumerate(z):\n",
    "    print(idx, val)"
   ]
  },
  {
   "cell_type": "code",
   "execution_count": 105,
   "id": "c7ed306c",
   "metadata": {},
   "outputs": [
    {
     "name": "stdout",
     "output_type": "stream",
     "text": [
      "0 ('T1', 'T8')\n",
      "1 ('Application_Usage', 'Purpose_Modelling')\n",
      "2 ('1983', '1983')\n",
      "3 ('1992', '1992')\n",
      "4 ('Structure', 'Structure')\n"
     ]
    }
   ],
   "source": [
    "for indx, val in enumerate(z):\n",
    "    print(indx, val)"
   ]
  },
  {
   "cell_type": "code",
   "execution_count": 68,
   "id": "28376b75",
   "metadata": {},
   "outputs": [],
   "source": [
    "def pick_ann(x, y):\n",
    "    return x"
   ]
  },
  {
   "cell_type": "code",
   "execution_count": 76,
   "id": "9615c12a",
   "metadata": {},
   "outputs": [
    {
     "name": "stdout",
     "output_type": "stream",
     "text": [
      "T1\n"
     ]
    }
   ],
   "source": [
    "r = pick_ann('T1', 'T8')\n",
    "print(r)"
   ]
  },
  {
   "cell_type": "code",
   "execution_count": 64,
   "id": "f4d7d344",
   "metadata": {},
   "outputs": [],
   "source": [
    "def merge_annotations(ann1, ann2):\n",
    "    ann_merged = ann1+\":\"+ann2\n",
    "    return ann_merged"
   ]
  },
  {
   "cell_type": "code",
   "execution_count": 78,
   "id": "ae544317",
   "metadata": {},
   "outputs": [
    {
     "name": "stdout",
     "output_type": "stream",
     "text": [
      "Application_Usage:Purpose_Modelling\n"
     ]
    }
   ],
   "source": [
    "an = merge_annotations('Application_Usage', 'Purpose_Modelling')\n",
    "print(an)"
   ]
  },
  {
   "cell_type": "code",
   "execution_count": null,
   "id": "cf290f9f",
   "metadata": {},
   "outputs": [],
   "source": []
  },
  {
   "cell_type": "markdown",
   "id": "64cabaeb",
   "metadata": {},
   "source": [
    "## Analyses of the annotation: \n",
    "\n",
    "- take a deeper look into the annotated data. Once from the software perspective: How much software does appear only for a single purpose? What type combinations appear for software? And once from the type perspective: How many different software is there per type? Does any type just have few software? etc. Here it is especially important that you consider software identities to disambiguate software names, for instance, to tell that SPSS and Statistical Software for the Social Sciences are the same real world software. The corresponding data with identifies for each mention is located at https://github.com/dave-s477/SoMeSci/blob/master/Linking/artifacts.json"
   ]
  },
  {
   "cell_type": "code",
   "execution_count": null,
   "id": "e02cdeb5",
   "metadata": {},
   "outputs": [],
   "source": []
  },
  {
   "cell_type": "markdown",
   "id": "34a028b2",
   "metadata": {},
   "source": [
    "## Classification: \n",
    "\n",
    "- create a classifier to classify software purpose. First up start by creating your input pipeline. You can transform the input to IOB2 format (also known as BIO format) with the help of articlenicer. Multiple labels for a single annotation can be combined (e.g. SW_Usage + Visualization = SW_Usage_Visualization).\n",
    "\n",
    "Then you can start to approach the problem as a standard machine learning task:\n",
    "\n",
    "1. Divide your data into train, development and testset. (Split all samples randomly once in the beginning, make sure that a sufficient number of samples is present in all of the sets for each type, especially for rare labels)\n",
    "2. Select your features: How much context do you want to consider? One sentence, multi-sentence, the entire paragraph? You can also attempt a compare.\n",
    "3. Create a classifier: one approach is to model the problem as a sequence classification and providing the information where the software item is in the sequence as an additional feature to the sentences.\n",
    "There are different classifiers that are suited. A current state of the art choice is SciBERT or BioBERT, both of which we have previously used on the data (https://github.com/dave-s477/SoMeNLP)\n",
    "4. Evaluate the performance by Precision, Recall and FScore.\n",
    "5. Optimize"
   ]
  },
  {
   "cell_type": "markdown",
   "id": "29921c8d",
   "metadata": {},
   "source": [
    "### Descriptive Analysis\n",
    "- Number of software mentions in a file and file name\n",
    "- NUmber of application Usage statements with No purpose assigned to it and the file name "
   ]
  },
  {
   "cell_type": "code",
   "execution_count": null,
   "id": "073c18a3",
   "metadata": {},
   "outputs": [],
   "source": []
  }
 ],
 "metadata": {
  "kernelspec": {
   "display_name": "Python 3 (ipykernel)",
   "language": "python",
   "name": "python3"
  },
  "language_info": {
   "codemirror_mode": {
    "name": "ipython",
    "version": 3
   },
   "file_extension": ".py",
   "mimetype": "text/x-python",
   "name": "python",
   "nbconvert_exporter": "python",
   "pygments_lexer": "ipython3",
   "version": "3.8.10"
  }
 },
 "nbformat": 4,
 "nbformat_minor": 5
}
