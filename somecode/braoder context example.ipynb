{
 "cells": [
  {
   "cell_type": "code",
   "execution_count": 47,
   "id": "2f1e97b5",
   "metadata": {},
   "outputs": [],
   "source": [
    "from pathlib import Path\n",
    "path_tofile = Path('/home/beck/Desktop/articlenizer/data/PLoS_methods/PMC4507865.txt')\n",
    "\n",
    "text_original = [] \n",
    "\n",
    "with path_tofile.open(mode='r') as in_f:\n",
    "    for line in in_f:\n",
    "        \n",
    "        clean_line = line.rstrip()\n",
    "        if clean_line:\n",
    "            text_original.append(clean_line)\n",
    "        else :\n",
    "            pass"
   ]
  },
  {
   "cell_type": "code",
   "execution_count": 48,
   "id": "7d8c56cb",
   "metadata": {},
   "outputs": [],
   "source": [
    "from pathlib import Path\n",
    "path_tofile = Path('/home/beck/Desktop/SoMeNLP/data/PLoS_methods_bio/PMC4507865.data.txt')\n",
    "\n",
    "text = [] \n",
    "\n",
    "with path_tofile.open(mode='r') as in_f:\n",
    "    for line in in_f:\n",
    "        \n",
    "        clean_line = line.rstrip()\n",
    "        if clean_line:\n",
    "            text.append(clean_line)\n",
    "        elif read_empty:\n",
    "            text.append([])"
   ]
  },
  {
   "cell_type": "code",
   "execution_count": 49,
   "id": "cc705f16",
   "metadata": {},
   "outputs": [],
   "source": [
    "\n",
    "\n",
    "path_tofile = Path('/home/beck/Desktop/articlenizer/data/PLoS_methods_bio/PMC4507865.data.txt')\n",
    "\n",
    "text2 = [] \n",
    "\n",
    "with path_tofile.open(mode='r') as in_f:\n",
    "    for line in in_f:\n",
    "        \n",
    "        clean_line = line.rstrip()\n",
    "        if clean_line:\n",
    "            text2.append(clean_line)\n",
    "        elif read_empty:\n",
    "            text2.append([])"
   ]
  },
  {
   "cell_type": "code",
   "execution_count": 50,
   "id": "6c6c5d41",
   "metadata": {},
   "outputs": [
    {
     "name": "stdout",
     "output_type": "stream",
     "text": [
      "text  is 52 long\n",
      "text2 is 52 long\n",
      "text_original has 5 paragrapghs\n"
     ]
    }
   ],
   "source": [
    "print(f'text  is {len(text)} long')\n",
    "print(f'text2 is {len(text2)} long')\n",
    "print(f'text_original has {len(text_original)} paragrapghs')"
   ]
  },
  {
   "cell_type": "code",
   "execution_count": 51,
   "id": "b64d7f99",
   "metadata": {},
   "outputs": [
    {
     "data": {
      "text/plain": [
       "['Study sites and data collection : Study sites and monthly meteorological data collection have previously been described [19] .',\n",
       " 'The sites were composed of 13 districts : Banan , Changshou , Fengdu , Fengjie , Fuling , Kaixian , Wanzhou , Shizhu , Wulong , Wushan , Yubei , Yunyang and Zhongxian .',\n",
       " 'These districts are located along the Yangtze River ( Fig 1 ) .',\n",
       " 'Figure data removed from full text .']"
      ]
     },
     "execution_count": 51,
     "metadata": {},
     "output_type": "execute_result"
    }
   ],
   "source": [
    "text[0:4]"
   ]
  },
  {
   "cell_type": "code",
   "execution_count": 52,
   "id": "4d260dd2",
   "metadata": {},
   "outputs": [
    {
     "data": {
      "text/plain": [
       "['Study sites and data collection : Study sites and monthly meteorological data collection have previously been described [19] .',\n",
       " 'The sites were composed of 13 districts : Banan , Changshou , Fengdu , Fengjie , Fuling , Kaixian , Wanzhou , Shizhu , Wulong , Wushan , Yubei , Yunyang and Zhongxian .',\n",
       " 'These districts are located along the Yangtze River ( Fig 1 ) .',\n",
       " 'Figure data removed from full text .']"
      ]
     },
     "execution_count": 52,
     "metadata": {},
     "output_type": "execute_result"
    }
   ],
   "source": [
    "text2[0:4]"
   ]
  },
  {
   "cell_type": "code",
   "execution_count": 53,
   "id": "0d6d4680",
   "metadata": {
    "scrolled": true
   },
   "outputs": [
    {
     "data": {
      "text/plain": [
       "['Study sites and data collection: Study sites and monthly meteorological data collection have previously been described [19].The sites were composed of 13 districts: Banan, Changshou, Fengdu, Fengjie, Fuling, Kaixian, Wanzhou, Shizhu, Wulong, Wushan, Yubei, Yunyang and Zhongxian. These districts are located along the Yangtze River (Fig 1).',\n",
       " 'Figure data removed from full text. Figure identifier and caption: 10.1371/journal.pone.0133218.g001 Spatial distribution of HFRS occurrence from 1997 to 2008.WS: Wushan; FJ: Fengjie; YY: Yunyang; KX: Kaixian; WZ: Wanzhou; SZ: Shizhu; ZX: Zhongxian; FD: Fengdu; WL: Wulong; FL: Fuling; CS: Changshou; YB: Yubei; BN: Banan. TGD: Three Gorges Dam. HFRS: hemorrhagic fever with renal syndrome. Central region includes the districts of ZX, CS, SZ, FL, FD, and WL. The rest of districts are designated as periphery region.',\n",
       " 'The case of HFRS was selected according to epidemiological data, clinical symptoms and signs. Patient blood samples were collected and sent to local Center for Disease Control and Prevention (CDC) institutes for serological and etiological confirmation. All cases were confirmed on antibody tests, pathogen isolation, or evidence of hantavirus RNA sequences in blood or tissues. Patient data used in this study were analyzed and reported anonymously. All participants provided their written informed consent to participate in this study; and ethical approval for this study was obtained from the Ethical Review Committee of China CDC (No: 201214). Multiple processes were conducted to control the data quality during HFRS surveillance. First, surveillance system and training guidelines were followed by local CDC employees during data collection and analysis; any abnormal values were confirmed by either the local CDC or China CDC. Second, reported cases were regularly reviewed to guarantee data integrity. Third, physicians were required to report HFRS cases to the local CDC within 12 hours of the occurrence according to laws and regulations. Rodent data were collected every April and September from 1997 to 2007 in residential area and field areas in the Changshou district. The residential area was selected based on the representative of ecological habitats and the occurrence of HFRS in this district. In residential area, 150 mouse traps were placed daily for a month and effective traps must be higher than 130 traps. One or two traps were placed in a room based on the areas, and five traps were placed in a household for 30 houses. For the field area, forestry and farmland were selected to conduct the investigation of rodent density; 150 traps were placed per habitat daily for a month. To capture the rodents, mouse traps were set at 5-meter intervals and baited with peanuts. The captured rodents were taxonomically identified to strain level according to criteria developed by Chen and Qiu [20]. Rodent density was calculated as a proportion (total number of captured rodents/total number of valid mouse traps). An invalid mouse trap was defined as either a missing trap or non-rodent triggered trap.',\n",
       " 'Spatio-temporal analysis of HFRS incidence: Cumulative incidences (total number of cases/population at the beginning of study) were calculated for each district to explore the spatial trend of HFRS. The annual/monthly HFRS incidences were calculated for the study area between 1997 and 2008 and curves were plotted to explore the temporal pattern. The number of cases occurring in each month was presented as mean ± standard error of mean to determine the seasonal pattern of HFRS.',\n",
       " 'Poisson regression models were used to explore the association between HFRS incidence and climatic factors. The autocorrelation of incidence was examined and noticeable autocorrelation with lags of 1, 3, and 6 months were demonstrated. In these two plots, we found that the lag-1, lag-3 and lag-6 autocorrelations were 0.573, 0.458 and 0.512, respectively, which were significant under the level 0.05 (the minimum absolute value for autocorrelation coefficient to be significant under 0.05 with the sample size of 140 was calculated to be Φ−1((1+0.95)/2)/140= 0.166, in which Φ−1 is the inverse function of cumulative distribution function of standard normal distribution); their partial autocorrelation were 0.573, 0.279 and 0.220, which were larger than the other lags up to 12. Additionally, the AIC values increased when more autocorrelation terms were added to the model. Therefore, the incidence with lags of 1, 3 and 6 was incorporated into our models as predictors to account for the autocorrelation. Annual gross domestic product (GDP) values for Chongqing were included as a predictor to control for the impact of economic improvement on HFRS incidence. A preliminary analysis was conducted using the Poisson regression model with incidence (lags of 1, 3 and 6 months) and GDP values as predictors; yt denotes the count of HFRS at time t. According to the Poisson regression model, yt followed a Poisson distribution with mean μt. We denoted the incidence at time t as ratet = μt/Nt, where Nt denotes the population of a district at time t, the incidence with lag 1, 3 and 6 months as ratet-1, ratet-3 and ratet-6, and GDP value at time t as gdpt. The preliminary analysis model was: Log(ratet)=ζ0+δ1×ratet−1+δ2×ratet−3+δ3×ratet−6+u2×gdpt Where δ1, δ2, δ3, and u2 are the corresponding regression coefficients before these predictors. Following the preliminary analysis, the association between HFRS incidence and climatic factors was explored with the incidence’s autocorrelation and GDP being adjusted. The multi-collinearity of the different climatic factors with different lags was checked first, then temperature and rainfall data with lags as our candidate predictors were included, based on the multi-collinearity checking. According to the selection process, the final model with the following predictors was constructed: incidence with lag 1, 3 and 6 months (ratet-1, ratet-3 and ratet-6); GDP with lag 0 months (gdpt); temperature with lag 0 and 5 months (denoted as tempt, tempt-5) and rainfall with lag 2 (denoted as raint-2). The model is presented here: Log(ratet)=ζ0+δ1×ratet-1+δ2×ratet-3+δ3×ratet-6+β21×tempt+β22×tempt−5+γ21×raint−2+u2×gdpt Autocorrelation plot and residual plot of the residuals were used to examine appropriateness of the models. A zero-inflated negative binomial model was used to explore the relationship between the HFRS incidence and rodent density. Since the number of mice was only collected in April and September in the Changshou district, we aggregated the monthly HFRS incidences into two periods with the same number of months: March-August, and September- February. This aggregation provided more counts of HFRS for each period, which led to more reliable regression analysis. Because the rodent density may impact the disease incidence with lags, rodent density of lags 0 and 1 (denoted as micet, micet-1) were used as our predictors: where yt denotes the count of HFRS at time t, and ratet = μt /Nt. The zero-inflated negative binomial model assumed that yt = 0 with probability pt, and yt followed a negative binomial distribution with mean μt with probability 1-pt. The following model was formulated: Logit(pt)=μ0+α1×micet+α2×micet−1 Log(ratet)=ζ0+δ1×micet+δ2×micet−1 We used R to estimate the models with the function “glm”, which used the iteratively weighted least squares method in order to fit the model and get the parameter estimation. We quantified the significance of parameters with an (asymptotic) z-test. Also, we studied model fitting with log-likelihood (or equivalently, deviance) and examine basic model assumptions with model diagnostic plots.']"
      ]
     },
     "execution_count": 53,
     "metadata": {},
     "output_type": "execute_result"
    }
   ],
   "source": [
    "text_original"
   ]
  },
  {
   "cell_type": "code",
   "execution_count": 54,
   "id": "72483136",
   "metadata": {},
   "outputs": [
    {
     "data": {
      "text/plain": [
       "'/home/beck/Desktop/Automatic-classifcation-of-purpose-of-software-in-Scientific-articles/somecode'"
      ]
     },
     "execution_count": 54,
     "metadata": {},
     "output_type": "execute_result"
    }
   ],
   "source": [
    "pwd"
   ]
  },
  {
   "cell_type": "code",
   "execution_count": null,
   "id": "049f7a3b",
   "metadata": {},
   "outputs": [],
   "source": []
  }
 ],
 "metadata": {
  "kernelspec": {
   "display_name": "Python 3 (ipykernel)",
   "language": "python",
   "name": "python3"
  },
  "language_info": {
   "codemirror_mode": {
    "name": "ipython",
    "version": 3
   },
   "file_extension": ".py",
   "mimetype": "text/x-python",
   "name": "python",
   "nbconvert_exporter": "python",
   "pygments_lexer": "ipython3",
   "version": "3.8.10"
  }
 },
 "nbformat": 4,
 "nbformat_minor": 5
}
