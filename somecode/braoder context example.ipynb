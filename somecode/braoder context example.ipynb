{
 "cells": [
  {
   "cell_type": "code",
   "execution_count": 1,
   "id": "029b3d5b",
   "metadata": {
    "scrolled": true
   },
   "outputs": [],
   "source": [
    "from pathlib import Path\n",
    "path_tofile = Path('dax/PMC4270440.data.txt')\n",
    "\n",
    "path_tofile\n",
    "\n",
    "\n",
    "text = [] \n",
    "\n",
    "with path_tofile.open(mode='r') as in_f:\n",
    "    for line in in_f:\n",
    "        \n",
    "        clean_line = line.rstrip()\n",
    "        if clean_line:\n",
    "            text.append(clean_line)\n",
    "        elif read_empty:\n",
    "            text.append([])"
   ]
  },
  {
   "cell_type": "code",
   "execution_count": 2,
   "id": "a850b7f2",
   "metadata": {},
   "outputs": [],
   "source": [
    "contxt_txt = []"
   ]
  },
  {
   "cell_type": "code",
   "execution_count": 3,
   "id": "cd132411",
   "metadata": {},
   "outputs": [],
   "source": [
    "contxt_txt.append(text[0]+text[1])          # text[0]    #0B, 1A"
   ]
  },
  {
   "cell_type": "code",
   "execution_count": 4,
   "id": "c6fa3024",
   "metadata": {},
   "outputs": [],
   "source": [
    "contxt_txt.append(text[0]+text[1]+text[2])          # text[1] ,  #1B, 1A"
   ]
  },
  {
   "cell_type": "code",
   "execution_count": 5,
   "id": "5508450e",
   "metadata": {},
   "outputs": [],
   "source": [
    "contxt_txt.append(text[0] + text[1] + text[2]+text[3])   # text[2]    #2B, 1A"
   ]
  },
  {
   "cell_type": "code",
   "execution_count": 6,
   "id": "5365fc4f",
   "metadata": {},
   "outputs": [],
   "source": [
    "contxt_txt.append( text[1] + text[2]+text[3]+text[4])   # text[3]    #2B, 1A"
   ]
  },
  {
   "cell_type": "code",
   "execution_count": 7,
   "id": "b5cf0762",
   "metadata": {},
   "outputs": [],
   "source": [
    "# the last steps \n",
    "contxt_txt.append(text[145] +text[146]+text[147]+text[148])   # text[147]  #2B, 1A"
   ]
  },
  {
   "cell_type": "code",
   "execution_count": 8,
   "id": "9495b39b",
   "metadata": {},
   "outputs": [],
   "source": [
    "# the last steps \n",
    "contxt_txt.append(text[146]+text[147]+text[148]+text[149])            # text[148]  #2B, 1A"
   ]
  },
  {
   "cell_type": "code",
   "execution_count": 9,
   "id": "9851ee91",
   "metadata": {},
   "outputs": [],
   "source": [
    "# the last steps \n",
    "contxt_txt.append(text[147]+text[148]+text[149])                        # text[149]  #2B, 1A"
   ]
  }
 ],
 "metadata": {
  "kernelspec": {
   "display_name": "Python 3 (ipykernel)",
   "language": "python",
   "name": "python3"
  },
  "language_info": {
   "codemirror_mode": {
    "name": "ipython",
    "version": 3
   },
   "file_extension": ".py",
   "mimetype": "text/x-python",
   "name": "python",
   "nbconvert_exporter": "python",
   "pygments_lexer": "ipython3",
   "version": "3.8.10"
  }
 },
 "nbformat": 4,
 "nbformat_minor": 5
}
