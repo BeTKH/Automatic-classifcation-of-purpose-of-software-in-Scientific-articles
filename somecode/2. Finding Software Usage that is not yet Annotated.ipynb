{
 "cells": [
  {
   "cell_type": "markdown",
   "id": "f7e5bf04",
   "metadata": {},
   "source": [
    "# Cleaning task 2: Finding Software Usage that is not yet Annotated"
   ]
  },
  {
   "cell_type": "markdown",
   "id": "13701893",
   "metadata": {},
   "source": [
    "## 2.1. PLoS "
   ]
  },
  {
   "cell_type": "code",
   "execution_count": 10,
   "id": "8b0c6928",
   "metadata": {
    "scrolled": true
   },
   "outputs": [],
   "source": [
    "\n",
    "import os\n",
    "from os import listdir\n",
    "from os.path import isfile, join\n",
    "\n",
    "\n",
    "# we are interested only on annotations set of:  (software_usage and purpose annotations)\n",
    "\n",
    "Usage_ = ['Application_Usage','ProgrammingEnvironment_Usage','PlugIn_Usage','OperatingSystem_Usage']\n",
    "\n",
    "Purpose_ = ['Purpose_Analysis','Purpose_Modelling', 'Purpose_Stimulation', 'Purpose_DataCollection', \n",
    "            'Purpose_DataPreProcss', 'Purpose_Simulation', 'Purpose_Visualization', 'Purpose_Programming']\n",
    "\n",
    "\n",
    "\n",
    "dict_missingAnnforUsage = {}\n",
    "# file path\n",
    "path = 'SoMeSci/PLoS_methods/'\n",
    "\n",
    "\n",
    "# iterating over all files in the dir\n",
    "for file_name in os.listdir(path):\n",
    "    \n",
    "    \n",
    "    # if the file is .ann\n",
    "    if file_name.endswith('.ann'):\n",
    "        \n",
    "        # path to each file\n",
    "        file_path = path + file_name\n",
    "        \n",
    "        # read eah file\n",
    "        with open(file_path, \"r\") as a_file:\n",
    "            \n",
    "            anno_usage_strstp = []\n",
    "            anno_purpose_strstp = []\n",
    "            \n",
    "            for line in a_file:\n",
    "            \n",
    "                # grab the type of annotation\n",
    "                annotataion = line.split()\n",
    "                \n",
    "                # if it is _usage annotation\n",
    "                if (annotataion[1] in Usage_):\n",
    "                \n",
    "                    startstop = annotataion[2:4]\n",
    "                    strstp = '_'.join(startstop)\n",
    "\n",
    "                    anno_usage_strstp.append(strstp)\n",
    "                    \n",
    "                # if it is purpose_ annotation   \n",
    "                elif (annotataion[1] in Purpose_):\n",
    "                \n",
    "                    startstop = annotataion[2:4]\n",
    "                    strstp = '_'.join(startstop)\n",
    "                \n",
    "                    #print(strstp)\n",
    "                \n",
    "                    anno_purpose_strstp.append(strstp)\n",
    "                \n",
    "                \n",
    "            Usage_annotations_set = set(anno_usage_strstp)\n",
    "            Purpose_annotations_set = set(anno_purpose_strstp)\n",
    "            \n",
    "            \n",
    "            \n",
    "            # Usage_annotations_set - Purpose_annotations_set = Usage with no purpose annotation\n",
    "            missingPurposeANN = Usage_annotations_set.difference(Purpose_annotations_set)\n",
    "            missingUsageANN = Purpose_annotations_set.difference(Usage_annotations_set)\n",
    "            # check if result is non-empty set\n",
    "            \n",
    "            \n",
    "                \n",
    "                # have USAGE ANNOTATION -- WITHOUT HAVING PURPOSE ANNOTATION \n",
    "\n",
    "                #( example usage annotations that lack software purpose!)\n",
    "                \n",
    "        \n",
    "            if(len(missingPurposeANN)!= 0):\n",
    "                print (file_name, missingPurposeANN) \n",
    "\n",
    "                dict_missingAnnforUsage[file_name] = missingPurposeANN   "
   ]
  },
  {
   "cell_type": "markdown",
   "id": "d7c7933d",
   "metadata": {},
   "source": [
    "## copy these files to a new folder "
   ]
  },
  {
   "cell_type": "code",
   "execution_count": 11,
   "id": "a2a64ff6",
   "metadata": {},
   "outputs": [],
   "source": [
    "import os\n",
    "import shutil\n",
    "\n",
    "src = 'SoMeSci/PLoS_methods/'\n",
    "dest = 'SoMeSci/PLoS_MissingAnn/'\n",
    "\n",
    "\n",
    "\n",
    "for file_name in list(dict_missingAnnforUsage):\n",
    "    \n",
    "    file_name_ = file_name.split(\".\")\n",
    "    \n",
    "    #copy both .ann and .txt files\n",
    "    shutil.copy(src+file_name_[0]+'.ann', dest)\n",
    "    shutil.copy(src+file_name_[0]+'.txt', dest)"
   ]
  },
  {
   "cell_type": "code",
   "execution_count": 12,
   "id": "7bdd4c7d",
   "metadata": {},
   "outputs": [
    {
     "data": {
      "text/plain": [
       "0"
      ]
     },
     "execution_count": 12,
     "metadata": {},
     "output_type": "execute_result"
    }
   ],
   "source": [
    "len(dict_missingAnnforUsage)"
   ]
  },
  {
   "cell_type": "code",
   "execution_count": 13,
   "id": "ccfd6875",
   "metadata": {
    "scrolled": true
   },
   "outputs": [
    {
     "name": "stdout",
     "output_type": "stream",
     "text": [
      "Missing purpose Annotations in :  0 files \n",
      "\n"
     ]
    },
    {
     "data": {
      "text/plain": [
       "[]"
      ]
     },
     "execution_count": 13,
     "metadata": {},
     "output_type": "execute_result"
    }
   ],
   "source": [
    "list_of_PLoS_MIssing = list(dict_missingAnnforUsage)\n",
    "list_of_PLoS_MIssing.sort()\n",
    "print('Missing purpose Annotations in : ',len(list_of_PLoS_MIssing), 'files \\n')\n",
    "list_of_PLoS_MIssing"
   ]
  },
  {
   "cell_type": "markdown",
   "id": "14271ac3",
   "metadata": {},
   "source": [
    "## 2.2 PubMed"
   ]
  },
  {
   "cell_type": "code",
   "execution_count": 14,
   "id": "b76a7aa0",
   "metadata": {
    "scrolled": false
   },
   "outputs": [],
   "source": [
    "import os\n",
    "from os import listdir\n",
    "from os.path import isfile, join\n",
    "\n",
    "\n",
    "# we are interested only on annotations set of:  (software_usage and purpose annotations)\n",
    "\n",
    "Usage_ = ['Application_Usage','ProgrammingEnvironment_Usage','PlugIn_Usage','OperatingSystem_Usage']\n",
    "\n",
    "Purpose_ = ['Purpose_Analysis','Purpose_Modelling', 'Purpose_Stimulation', 'Purpose_DataCollection', \n",
    "            'Purpose_DataPreProcss', 'Purpose_Simulation', 'Purpose_Visualization', 'Purpose_Programming']\n",
    "\n",
    "\n",
    "\n",
    "dict_missingAnnforUsage2 = {}\n",
    "# file path\n",
    "path = 'SoMeSci/Pubmed_fulltext/'\n",
    "\n",
    "\n",
    "# iterating over all files in the dir\n",
    "for file_name2 in os.listdir(path):\n",
    "    \n",
    "    \n",
    "    # if the file is .ann\n",
    "    if file_name2.endswith('.ann'):\n",
    "        \n",
    "        # path to each file\n",
    "        file_path = path + file_name2\n",
    "        \n",
    "        # read eah file\n",
    "        with open(file_path, \"r\") as a_file2:\n",
    "            \n",
    "            anno_usage_strstp2 = []\n",
    "            anno_purpose_strstp2 = []\n",
    "            \n",
    "            for line in a_file2:\n",
    "            \n",
    "                # grab the type of annotation\n",
    "                annotataion = line.split()\n",
    "                \n",
    "                # if it is _usage annotation\n",
    "                if (annotataion[1] in Usage_):\n",
    "                \n",
    "                    startstop2 = annotataion[2:4]\n",
    "                    strstp2 = '_'.join(startstop2)\n",
    "\n",
    "                    anno_usage_strstp2.append(strstp2)\n",
    "                    \n",
    "                # if it is purpose_ annotation   \n",
    "                elif (annotataion[1] in Purpose_):\n",
    "                \n",
    "                    startstop2 = annotataion[2:4]\n",
    "                    strstp2 = '_'.join(startstop2)\n",
    "                \n",
    "                    #print(strstp)\n",
    "                \n",
    "                    anno_purpose_strstp2.append(strstp2)\n",
    "                \n",
    "                \n",
    "            Usage_annotations_set2 = set(anno_usage_strstp2)\n",
    "            Purpose_annotations_set2 = set(anno_purpose_strstp2)\n",
    "            \n",
    "            \n",
    "            \n",
    "            # Usage_annotations_set - Purpose_annotations_set = Usage with no purpose annotation\n",
    "            missing2 = Usage_annotations_set2.difference(Purpose_annotations_set2)\n",
    "            \n",
    "            # check if result is non-empty set\n",
    "        \n",
    "            if(len(missing2)!= 0):\n",
    "                print (file_name2, missing2) \n",
    "\n",
    "                dict_missingAnnforUsage2[file_name2] = missing2   "
   ]
  },
  {
   "cell_type": "markdown",
   "id": "51824545",
   "metadata": {},
   "source": [
    "## Copy files to the dest folder"
   ]
  },
  {
   "cell_type": "code",
   "execution_count": 15,
   "id": "226452ea",
   "metadata": {},
   "outputs": [],
   "source": [
    "import os\n",
    "import shutil\n",
    "\n",
    "src = 'SoMeSci/Pubmed_fulltext/'\n",
    "dest = 'SoMeSci/Pubmed_MIssingAnn/'\n",
    "\n",
    "\n",
    "\n",
    "for file_name2 in list(dict_missingAnnforUsage2):\n",
    "    \n",
    "    \n",
    "    \n",
    "    #file_name_2 = file_name2.split(\".\")\n",
    "    \n",
    "    #copy both .ann and .txt files\n",
    "    shutil.copy(src+file_name_2[0]+'.ann', dest)\n",
    "    shutil.copy(src+file_name_2[0]+'.txt', dest)"
   ]
  },
  {
   "cell_type": "code",
   "execution_count": 16,
   "id": "632d5e00",
   "metadata": {},
   "outputs": [
    {
     "data": {
      "text/plain": [
       "0"
      ]
     },
     "execution_count": 16,
     "metadata": {},
     "output_type": "execute_result"
    }
   ],
   "source": [
    "len(dict_missingAnnforUsage2)"
   ]
  },
  {
   "cell_type": "code",
   "execution_count": 17,
   "id": "ddbeedf8",
   "metadata": {},
   "outputs": [
    {
     "name": "stdout",
     "output_type": "stream",
     "text": [
      "Missing purpose Annotations in :  0 files \n",
      "\n"
     ]
    },
    {
     "data": {
      "text/plain": [
       "[]"
      ]
     },
     "execution_count": 17,
     "metadata": {},
     "output_type": "execute_result"
    }
   ],
   "source": [
    "list_of_PubMed_MIssing = list(dict_missingAnnforUsage2)\n",
    "list_of_PubMed_MIssing.sort()\n",
    "print('Missing purpose Annotations in : ',len(list_of_PubMed_MIssing), 'files \\n')\n",
    "list_of_PubMed_MIssing"
   ]
  }
 ],
 "metadata": {
  "kernelspec": {
   "display_name": "Python 3 (ipykernel)",
   "language": "python",
   "name": "python3"
  },
  "language_info": {
   "codemirror_mode": {
    "name": "ipython",
    "version": 3
   },
   "file_extension": ".py",
   "mimetype": "text/x-python",
   "name": "python",
   "nbconvert_exporter": "python",
   "pygments_lexer": "ipython3",
   "version": "3.8.10"
  }
 },
 "nbformat": 4,
 "nbformat_minor": 5
}
