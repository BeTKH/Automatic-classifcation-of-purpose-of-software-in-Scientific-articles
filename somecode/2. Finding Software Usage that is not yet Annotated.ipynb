{
 "cells": [
  {
   "cell_type": "markdown",
   "id": "f7e5bf04",
   "metadata": {},
   "source": [
    "## Cleaning task 2: Finding Software Usage that is not yet Annotated"
   ]
  },
  {
   "cell_type": "code",
   "execution_count": 1,
   "id": "c0703706",
   "metadata": {},
   "outputs": [
    {
     "data": {
      "text/plain": [
       "'\\nfor each file \\n\\n    for each line \\n    \\n        if it is application usage , get its start stop number and look for corrosponding purpose annotation\\n                \\n                find the corrosponding purpose annotation\\n                        \\n                        if [corrosponding purpose annotation (start-stop number)] not found\\n                                \\n                                get the name of the file\\n\\n'"
      ]
     },
     "execution_count": 1,
     "metadata": {},
     "output_type": "execute_result"
    }
   ],
   "source": [
    "\"\"\"\n",
    "for each file \n",
    "\n",
    "    for each line \n",
    "    \n",
    "        if it is application usage , get its start stop number and look for corrosponding purpose annotation\n",
    "                \n",
    "                find the corrosponding purpose annotation\n",
    "                        \n",
    "                        if [corrosponding purpose annotation (start-stop number)] not found\n",
    "                                \n",
    "                                get the name of the file\n",
    "\n",
    "\"\"\""
   ]
  },
  {
   "cell_type": "code",
   "execution_count": 60,
   "id": "e5f4ed4c",
   "metadata": {},
   "outputs": [
    {
     "name": "stdout",
     "output_type": "stream",
     "text": [
      ".ann PLosMethods file count :  480 \n",
      "\n"
     ]
    }
   ],
   "source": [
    "import os\n",
    "from os import listdir\n",
    "from os.path import isfile, join\n",
    "\n",
    "\n",
    "# we are interested only on annotations set of:  (software_usage and purpose annotations)\n",
    "\n",
    "Usage_ = ['Application_Usage','ProgrammingEnvironment_Usage','PlugIn_Usage','OperatingSystem_Usage']\n",
    "\n",
    "Purpose_ = ['Purpose_Analysis','Purpose_Modelling', 'Purpose_Stimulation', 'Purpose_DataCollection', \n",
    "            'Purpose_DataPreProcss', 'Purpose_Simulation', 'Purpose_Visualization', 'Purpose_Programming']\n",
    "\n",
    "\n",
    "# 1. GET THE NAME OF FILES-----------------------------------------------------------------------------------------\n",
    "\n",
    "# file path\n",
    "path = 'SoMeSci/PLoS_methods/'\n",
    "\n",
    "# gather list of .ann PLoS_methods files ---------------------------------------------\n",
    "PLOS_filesList = []\n",
    "\n",
    "# iterating over all files in the dir\n",
    "for file_name in os.listdir(path):\n",
    "    \n",
    "    # if the file is .ann\n",
    "    if file_name.endswith('.ann'):\n",
    "        PLOS_filesList.append(file_name)\n",
    "    else:\n",
    "        continue\n",
    "\n",
    "PLOS_filesList.sort() \n",
    "\n",
    "print('.ann PLosMethods file count : ', len(PLOS_filesList), '\\n')\n",
    "\n",
    "# gather list of .ann PLoS_methods files ---------------------------------------------\n",
    "\n",
    "\n",
    "\n",
    "# 2. LOOP OVER FILES-----------------------------------------------------------------------------------------\n",
    "\n",
    "\n",
    "dict_file_usagePurpose = {}\n",
    "# loop over each file \n",
    "for file in PLOS_filesList[:]:\n",
    "    \n",
    "    # path to each file\n",
    "    file_path = path + file\n",
    "    \n",
    "    # read eah file\n",
    "    with open(file_path, \"r\") as a_file:\n",
    "        \n",
    "        anno_list = []\n",
    "        for line in a_file:\n",
    "            \n",
    "            # grab the type of annotation\n",
    "            annotataion = line.split()\n",
    "            \n",
    "            \n",
    "            #print(annotataion)\n",
    "            \n",
    "            if (annotataion[1] in Usage_) | (annotataion[1] in Purpose_):\n",
    "                \n",
    "                anno_list.append(annotataion)\n",
    "                #print(file, annotataion)\n",
    "                \n",
    "        dict_file_usagePurpose[file] = anno_list            "
   ]
  },
  {
   "cell_type": "code",
   "execution_count": 82,
   "id": "025129d9",
   "metadata": {},
   "outputs": [
    {
     "name": "stdout",
     "output_type": "stream",
     "text": [
      "T1 T2\n",
      "Application_Usage\n",
      "T1 T3\n",
      "Application_Usage\n",
      "T1 T4\n",
      "None\n",
      "T1 T6\n",
      "3670\n",
      "T1 T12\n",
      "None\n",
      "T2 T1\n",
      "Application_Usage\n",
      "T2 T3\n",
      "Application_Usage\n",
      "T2 T4\n",
      "None\n",
      "T2 T6\n",
      "None\n",
      "T2 T12\n",
      "5677\n",
      "T3 T1\n",
      "Application_Usage\n",
      "T3 T2\n",
      "Application_Usage\n",
      "T3 T4\n",
      "1203\n",
      "T3 T6\n",
      "None\n",
      "T3 T12\n",
      "None\n",
      "T4 T1\n",
      "None\n",
      "T4 T2\n",
      "None\n",
      "T4 T3\n",
      "1203\n",
      "T4 T6\n",
      "None\n",
      "T4 T12\n",
      "None\n",
      "T6 T1\n",
      "3670\n",
      "T6 T2\n",
      "None\n",
      "T6 T3\n",
      "None\n",
      "T6 T4\n",
      "None\n",
      "T6 T12\n",
      "None\n",
      "T12 T1\n",
      "None\n",
      "T12 T2\n",
      "5677\n",
      "T12 T3\n",
      "None\n",
      "T12 T4\n",
      "None\n",
      "T12 T6\n",
      "None\n"
     ]
    }
   ],
   "source": [
    "for file in list(dict_file_usagePurpose)[:2]:\n",
    "    #print(file, dict_file_usagePurpose.get(file), '\\n')\n",
    "    \n",
    "    for lsit_ann1 in dict_file_usagePurpose.get(file):\n",
    "        for lsit_ann2 in dict_file_usagePurpose.get(file):\n",
    "            \n",
    "            if(lsit_ann1 != lsit_ann2):\n",
    "                print(lsit_ann1[0],lsit_ann2[0])\n",
    "                \n",
    "                # check if there is no purpose annotation\n",
    "                \n",
    "                res = common_elements(lsit_ann1,lsit_ann2)\n",
    "                \n",
    "                print(res)"
   ]
  },
  {
   "cell_type": "code",
   "execution_count": 81,
   "id": "d28f422d",
   "metadata": {},
   "outputs": [],
   "source": [
    "def common_elements(list1, list2):\n",
    "\n",
    "    for element in list1:\n",
    "        if element in list2:\n",
    "            return element"
   ]
  },
  {
   "cell_type": "code",
   "execution_count": null,
   "id": "ad9491a9",
   "metadata": {},
   "outputs": [],
   "source": [
    "def purposeNonExist(list1, list2):\n",
    "\n",
    "    for list1[2] in list1:\n",
    "        if list2[2] not in list2:\n",
    "            return list(element)"
   ]
  }
 ],
 "metadata": {
  "kernelspec": {
   "display_name": "Python 3 (ipykernel)",
   "language": "python",
   "name": "python3"
  },
  "language_info": {
   "codemirror_mode": {
    "name": "ipython",
    "version": 3
   },
   "file_extension": ".py",
   "mimetype": "text/x-python",
   "name": "python",
   "nbconvert_exporter": "python",
   "pygments_lexer": "ipython3",
   "version": "3.8.10"
  }
 },
 "nbformat": 4,
 "nbformat_minor": 5
}
