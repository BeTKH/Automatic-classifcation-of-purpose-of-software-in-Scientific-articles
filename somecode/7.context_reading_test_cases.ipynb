{
 "cells": [
  {
   "cell_type": "code",
   "execution_count": null,
   "id": "9f45b351",
   "metadata": {},
   "outputs": [],
   "source": []
  },
  {
   "cell_type": "code",
   "execution_count": 1,
   "id": "017ae6cb",
   "metadata": {},
   "outputs": [],
   "source": [
    "def contextWindow(text, bef, aft):\n",
    "    \n",
    "    def add_neighbours(*sentcs):\n",
    "        \n",
    "        # unpack list of sentcs passed\n",
    "        lis_sents = list(sentcs)\n",
    "    \n",
    "        joined_tokens = []\n",
    "\n",
    "        for i in range(len(lis_sents)):\n",
    "        \n",
    "            joined_tokens.extend(lis_sents[i].split())\n",
    "        \n",
    "            joined_sent = ' '.join(joined_tokens)\n",
    "    \n",
    "        return joined_sent\n",
    "    \n",
    "    \n",
    "    \n",
    "    #xB, yA   --- where  x,y > len(text)\n",
    "    if (bef >= len(text)-1) or (aft >= len(text)-1):\n",
    "        \n",
    "        # reset the context within paragrapgh , returns the whole paragrapgh \n",
    "        \n",
    "        bef = len(text)- 1\n",
    "        aft = len(text)- 1\n",
    "        \n",
    "        contxt_txt = []        \n",
    "        \n",
    "        for i in range(len(text)):  \n",
    "            \n",
    "            contxt_txt.append( ' '.join(text))\n",
    "\n",
    "        return contxt_txt\n",
    "        \n",
    "        \n",
    "    # 0B, OA --- no change\n",
    "    elif (bef == 0) and (aft == 0):\n",
    "        return text\n",
    "\n",
    "    # 0B, 1A --- 2 conditions  \n",
    "    elif (bef == 0) and (aft == 1):\n",
    "        contxt_txt = []\n",
    "        for i in range(len(text)):\n",
    "            # 0B, 1A\n",
    "            if (i >= 0) and (i < len(text)-1):\n",
    "                contxt_txt.append( add_neighbours(text[i], text[i+1])) \n",
    "\n",
    "            # 0B, 0A\n",
    "            elif (i == len(text)-1):\n",
    "                contxt_txt.append(text[i]) \n",
    "\n",
    "        return contxt_txt\n",
    "\n",
    "    #OB, 2A --- 3 conditions\n",
    "    elif (bef == 0) and (aft == 2):\n",
    "        contxt_txt = []\n",
    "        for i in range(len(text)):\n",
    "            #OB, 2A\n",
    "            if (i >= 0) and (i <len(text)-2):\n",
    "                contxt_txt.append( add_neighbours(text[i], text[i+1], text[i+2]))\n",
    "\n",
    "            elif i == (len(text)-2):\n",
    "                contxt_txt.append( add_neighbours(text[i], text[i+1] ))\n",
    "\n",
    "            elif i == (len(text)-1):\n",
    "                contxt_txt.append(text[i])\n",
    "\n",
    "        return contxt_txt\n",
    "\n",
    "\n",
    "    #1B, 0A --- 2 conditions\n",
    "    elif (bef == 1) and (aft == 0):\n",
    "        contxt_txt = []\n",
    "        for i in range(len(text)):\n",
    "            #0B, 0A\n",
    "            if (i == 0):\n",
    "                contxt_txt.append(text[i])\n",
    "\n",
    "            elif (i >0):\n",
    "                contxt_txt.append(add_neighbours(text[i-1], text[i]))\n",
    "\n",
    "        return contxt_txt\n",
    "\n",
    "    #1B, 1A --- 3 conditions \n",
    "    elif ( bef == 1 ) and ( aft == 1):\n",
    "        contxt_txt = []\n",
    "        for i in range(len(text)):\n",
    "            if i == 0:   # 0B, 1A\n",
    "                contxt_txt.append(add_neighbours (text[i], text[i+1]))\n",
    "\n",
    "            elif (i >= 1) and ( i < len(text)-1):  # 1B ,1A\n",
    "                contxt_txt.append(add_neighbours(text[i-1], text[i], text[i+1]))\n",
    "\n",
    "            elif (i == len(text)-1):  #1B, 0A\n",
    "                contxt_txt.append(add_neighbours(text[i-1], text[i]))\n",
    "        return contxt_txt\n",
    "\n",
    "    #1B, 2A --- 4 conditions\n",
    "    elif (bef ==1 ) and (aft == 2):\n",
    "        contxt_txt = []\n",
    "        for i in range(len(text)):\n",
    "            if i ==0:\n",
    "                contxt_txt.append(add_neighbours(text[i], text[i+1], text[i+2]))  #0B, 2A\n",
    "\n",
    "            elif (i > 0) and (i < len(text)-2):\n",
    "                contxt_txt.append(add_neighbours(text[i-1], text[i], text[i+1],text[i+2]))     #1B, 2A\n",
    "\n",
    "            elif (i == len(text)-2):\n",
    "                contxt_txt.append(add_neighbours(text[i-1], text[i],text[i+1]))               #1B, 1A\n",
    "\n",
    "            elif i == (len(text)-1):\n",
    "                contxt_txt.append(add_neighbours(text[i-1], text[i]))                         #1B,0A\n",
    "        return contxt_txt\n",
    "\n",
    "    #2B, 0A   -- 3 cases \n",
    "    elif( bef ==2) and ( aft == 0):\n",
    "        contxt_txt = []\n",
    "        for i in range(len(text)):\n",
    "            if i == 0:       \n",
    "                contxt_txt.append(text[i])         #0B, 0A\n",
    "            elif i == 1:\n",
    "                contxt_txt.append(add_neighbours(text[i-1], text[i]))            #1B, 0A\n",
    "            elif i > 1:\n",
    "                contxt_txt.append(add_neighbours(text[i-2], text[i-1], text[i]))  #2B, 0A\n",
    "        return contxt_txt\n",
    "\n",
    "    #2B, 1A -- 3 cases\n",
    "    elif ( bef == 2 ) and (aft == 1):\n",
    "        contxt_txt = []\n",
    "        for i in range(len(text)):\n",
    "            if i ==0: \n",
    "                contxt_txt.append(add_neighbours(text[i], text[i+1]) )                     #0B, 1A\n",
    "\n",
    "            elif i ==1:\n",
    "                contxt_txt.append(add_neighbours(text[i-1], text[i], text[i+1]) )          #1B, 1A\n",
    "\n",
    "            elif (i > 1) and (i < len(text)-1):\n",
    "                contxt_txt.append(add_neighbours(text[i-2], text[i-1], text[i], text[i+1]))  # 2B, 1A\n",
    "\n",
    "            elif i == len(text)-1:\n",
    "                contxt_txt.append(add_neighbours(text[i-2], text[i-2], text[i]))           #2B, 0A\n",
    "\n",
    "        return contxt_txt\n",
    "\n",
    "    #2B, 2A --- 5 conditions\n",
    "    elif (bef == 2) and (aft == 2):        \n",
    "        contxt_txt = []        \n",
    "        for i in range(len(text)):    \n",
    "            \n",
    "            #print(f' there are {len(text)} sentences in {text}')\n",
    "\n",
    "            if i == 0:    # 0B, 2A\n",
    "                contxt_txt.append(add_neighbours(text[i] , text[i+1] , text[i+2]))  \n",
    "\n",
    "            elif i == 1:  # 1B, 2A\n",
    "                contxt_txt.append(add_neighbours(text[i-1] , text[i] , text[i+1] , text[i+2]))\n",
    "\n",
    "            elif (i >=1) and (i < len(text)-2):   # 2B , 2A \n",
    "                contxt_txt.append(add_neighbours(text[i-2], text[i-1], text[i], text[i+1], text[i+2]))\n",
    "\n",
    "            elif (i == len(text)-2):             #2B, 1A\n",
    "                contxt_txt.append(add_neighbours(text[i-2], text[i-1], text[i], text[i+1]))\n",
    "\n",
    "            elif i == len(text)-1:                #2B, 0A  \n",
    "                contxt_txt.append(add_neighbours(text[i-2], text[i-1], text[i]))\n",
    "                \n",
    "        return contxt_txt\n",
    "                \n",
    "    #3B, 3A --- 7 conditions\n",
    "    elif (bef == 3) and (aft == 3):\n",
    "        \n",
    "        contxt_txt = []        \n",
    "        for i in range(len(text)):\n",
    "            \n",
    "            if i == 0:  #0B, 3A\n",
    "                contxt_txt.append(add_neighbours(text[i] , text[i+1] , text[i+2] , text[i+3] ))\n",
    "            \n",
    "            elif i ==1: #1B, 3A\n",
    "                contxt_txt.append(add_neighbours(text[i-1] , text[i] , text[i+1] , text[i+2] , text[i+3] ))\n",
    "            \n",
    "            elif i ==2: #2B, 3A\n",
    "                contxt_txt.append(add_neighbours(text[i-2] , text[i-1] , text[i] , text[i+1] , text[i+2] ,text[i+3] ))\n",
    "            \n",
    "            elif (i >=3) and (i < len(text)-3): #3B, 3A\n",
    "                contxt_txt.append(add_neighbours(text[i-3], text[i-2] , text[i-1] , text[i] , text[i+1] , text[i+2] , text[i+3] ))\n",
    "            \n",
    "            elif (i == len(text)-3): #3B, 2A\n",
    "                contxt_txt.append(add_neighbours(text[i-3], text[i-2] , text[i-1] , text[i] , text[i+1] , text[i+2] ))\n",
    "            \n",
    "            elif (i == len(text)-2): #3B, 1A\n",
    "                contxt_txt.append(add_neighbours(text[i-3], text[i-2] , text[i-1] , text[i] , text[i+1]))\n",
    "            \n",
    "            elif (i == len(text)-1): #3B, 0A\n",
    "                contxt_txt.append(add_neighbours(text[i-3], text[i-2] , text[i-1] , text[i] ))\n",
    "                \n",
    "        return contxt_txt\n",
    "    \n",
    "    elif (bef == 0) and (aft == 3):\n",
    "        \n",
    "        contxt_txt = []        \n",
    "        for i in range(len(text)):\n",
    "            \n",
    "            if (i >= 0) and (i < len(text)-3): #0B3A\n",
    "                contxt_txt.append(add_neighbours(text[i] , text[i+1] , text[i+2] , text[i+3] ))\n",
    "                \n",
    "            elif (i == len(text)-3):  # 0B2A\n",
    "                contxt_txt.append(add_neighbours(text[i] , text[i+1] , text[i+2]))  \n",
    "                \n",
    "            elif (i == len(text)-2):  #0B1A\n",
    "                contxt_txt.append(add_neighbours(text[i] , text[i+1]))\n",
    "            \n",
    "            elif (i == len(text)-1):\n",
    "                contxt_txt.append(text[i])  \n",
    "                                  \n",
    "        return contxt_txt\n",
    "                                  \n",
    "    elif (bef == 1) and (aft == 3):\n",
    "        contxt_txt = []        \n",
    "        for i in range(len(text)):\n",
    "            \n",
    "            if (i == 0): #0B3A\n",
    "                contxt_txt.append(add_neighbours(text[i] , text[i+1] , text[i+2] ,  text[i+3] ))\n",
    "                \n",
    "            elif (i > 0) and(i < len(text)-3):  # 1B3A\n",
    "                contxt_txt.append(add_neighbours(text[i-1] , text[i] , text[i+1] , text[i+2], text[i+3] ))  \n",
    "                \n",
    "            elif (i == len(text)-3):  #1B2A\n",
    "                contxt_txt.append(add_neighbours(text[i] , text[i+1], text[i+2]))\n",
    "            \n",
    "            elif (i == len(text)-2):  #1B1A\n",
    "                contxt_txt.append(add_neighbours(text[i-1] , text[i] , text[i+1]))\n",
    "                                  \n",
    "            elif (i == len(text)-1):  #1B0A\n",
    "                contxt_txt.append(add_neighbours(text[i-1] , text[i]))\n",
    "                                                       \n",
    "        return contxt_txt\n",
    "                                  \n",
    "                                  \n",
    "    elif (bef == 2) and (aft == 3):\n",
    "        \n",
    "        contxt_txt = []        \n",
    "        for i in range(len(text)):\n",
    "            \n",
    "            if (i == 0): #0B3A\n",
    "                contxt_txt.append(add_neighbours(text[i] , text[i+1] , text[i+2] ,  text[i+3] ))\n",
    "                \n",
    "            elif (i == 1):  # 1B3A\n",
    "                contxt_txt.append(add_neighbours(text[i-1] , text[i] , text[i+1] , text[i+2], text[i+3] ))  \n",
    "                \n",
    "            elif (i > 1) and (i < len(text)-3):  #2B3A\n",
    "                contxt_txt.append(add_neighbours(text[i-2], text[i-1], text[i] , text[i+1], text[i+2],text[i+3]))\n",
    "            \n",
    "            elif (i == len(text)-3):  #2B2A\n",
    "                contxt_txt.append(add_neighbours(text[i-2], text[i-1] , text[i] , text[i+1], text[i+2]))\n",
    "                                  \n",
    "            elif (i == len(text)-2):  #2B1A\n",
    "                contxt_txt.append(add_neighbours(text[i-2], text[i-1] , text[i] , text[i+1]))\n",
    "                                  \n",
    "            elif (i == len(text)-1): #2B0A\n",
    "                contxt_txt.append(add_neighbours(text[i-2], text[i-1] , text[i]))\n",
    "                                                       \n",
    "        return contxt_txt\n",
    "    \n",
    "    \n",
    "    elif (bef == 3) and (aft == 2):\n",
    "        \n",
    "        contxt_txt = []        \n",
    "        for i in range(len(text)):\n",
    "            \n",
    "            if (i == 0): #0B2A\n",
    "                contxt_txt.append(add_neighbours(text[i] , text[i+1] , text[i+2]))\n",
    "                \n",
    "            elif (i == 1):  # 1B2A\n",
    "                contxt_txt.append(add_neighbours(text[i-1] , text[i] , text[i+1] , text[i+2]))  \n",
    "                \n",
    "            elif (i > 1) and (i < len(text)-3):  #2B2A\n",
    "                contxt_txt.append(add_neighbours(text[i-2], text[i-1], text[i] , text[i+1], text[i+2]))\n",
    "            \n",
    "            elif (i == len(text)-3):  #3B2A\n",
    "                contxt_txt.append(add_neighbours(text[i-3], text[i-2], text[i-1] , text[i] , text[i+1], text[i+2]))\n",
    "                                  \n",
    "            elif (i == len(text)-2):  #3B1A\n",
    "                contxt_txt.append(add_neighbours(text[i-3], text[i-2], text[i-1] , text[i] , text[i+1]))\n",
    "                                  \n",
    "            elif (i == len(text)-1): #3B0A\n",
    "                contxt_txt.append(add_neighbours(text[i-3] , text[i-2], text[i-1] , text[i]))\n",
    "                                                       \n",
    "        return contxt_txt \n",
    "    \n",
    "    \n",
    "    elif (bef == 3) and (aft == 1):\n",
    "        \n",
    "        contxt_txt = []        \n",
    "        for i in range(len(text)):\n",
    "            \n",
    "            if (i == 0): #0B1A\n",
    "                contxt_txt.append(add_neighbours(text[i] , text[i+1]))\n",
    "                \n",
    "            elif (i == 1):  # 1B1A\n",
    "                contxt_txt.append(add_neighbours(text[i-1] , text[i] , text[i+1]))\n",
    "                \n",
    "            elif (i == 2):  # 2B1A\n",
    "                contxt_txt.append(add_neighbours(text[i-2], text[i-1] , text[i] , text[i+1]))  \n",
    "                \n",
    "            elif (i > 2) and (i < len(text)-1):  #3B1A\n",
    "                contxt_txt.append(add_neighbours(text[i-3] , text[i-2], text[i-1], text[i] , text[i+1]))\n",
    "            \n",
    "            elif (i == len(text)-1):  #3B0A\n",
    "                contxt_txt.append(add_neighbours(text[i-3], text[i-2], text[i-1] , text[i] ))\n",
    "                                                       \n",
    "        return contxt_txt\n",
    "    \n",
    "    \n",
    "    elif (bef == 3) and (aft == 0):\n",
    "        contxt_txt = []        \n",
    "        for i in range(len(text)):\n",
    "            \n",
    "            if (i == 0): #0B0A\n",
    "                contxt_txt.append(text[i])\n",
    "                \n",
    "            elif (i == 1):  # 1B0A\n",
    "                contxt_txt.append(add_neighbours(text[i-1] , text[i] ))\n",
    "                \n",
    "            elif (i > 1) and ( i < len(text)-1):  # 2B0A\n",
    "                contxt_txt.append(add_neighbours(text[i-2], text[i-1] , text[i]))  \n",
    "            \n",
    "            elif (i == len(text)-1):  #3B0A\n",
    "                contxt_txt.append(add_neighbours(text[i-3], text[i-2], text[i-1] , text[i] ))\n",
    "        \n",
    "        return contxt_txt"
   ]
  },
  {
   "cell_type": "code",
   "execution_count": 2,
   "id": "73409161",
   "metadata": {},
   "outputs": [],
   "source": [
    "def read_Text(path):\n",
    "    \n",
    "    with path.open(mode='r') as in_f:\n",
    "        \n",
    "        cont = in_f.read()\n",
    "        \n",
    "    return cont"
   ]
  },
  {
   "cell_type": "code",
   "execution_count": 24,
   "id": "36d77a8f",
   "metadata": {
    "scrolled": true
   },
   "outputs": [
    {
     "data": {
      "text/plain": [
       "['Figure data removed from full text .',\n",
       " 'Figure identifier and caption : 10.1371/journal.pone.0133218.g001 Spatial distribution of HFRS occurrence from 1997 to 2008.WS : Wushan ; FJ : Fengjie ; YY : Yunyang ; KX : Kaixian ; WZ : Wanzhou ; SZ : Shizhu ; ZX : Zhongxian ; FD : Fengdu ; WL : Wulong ; FL : Fuling ; CS : Changshou ; YB : Yubei ; BN : Banan .',\n",
       " 'TGD : Three Gorges Dam .',\n",
       " 'HFRS : hemorrhagic fever with renal syndrome .',\n",
       " 'Central region includes the districts of ZX , CS , SZ , FL , FD , and WL .',\n",
       " 'The rest of districts are designated as periphery region .']"
      ]
     },
     "execution_count": 24,
     "metadata": {},
     "output_type": "execute_result"
    }
   ],
   "source": [
    "from pathlib import Path\n",
    "\n",
    "path_to_file = Path('/home/beck/Desktop/articlenizer/data/PLoS_methods_bio/PMC4507865.data.txt')\n",
    "\n",
    "# read the text \n",
    "txt = read_Text(path_to_file)\n",
    "\n",
    "# list of paraggrapghs in the txt\n",
    "par_list = txt.split('\\n\\n')\n",
    "\n",
    "# paragrapgh2 senetences list \n",
    "\n",
    "snt_pa_2 = par_list[1].split('\\n')\n",
    "snt_pa_2"
   ]
  },
  {
   "cell_type": "code",
   "execution_count": 4,
   "id": "f9abffe5",
   "metadata": {},
   "outputs": [
    {
     "data": {
      "text/plain": [
       "'Poisson regression models were used to explore the association between HFRS incidence and climatic factors .'"
      ]
     },
     "execution_count": 4,
     "metadata": {},
     "output_type": "execute_result"
    }
   ],
   "source": [
    "# case 0, 0\n",
    "\n",
    "contx_00  = contextWindow(snt_pa_2, 0, 0)\n",
    "contx_00[0]"
   ]
  },
  {
   "cell_type": "code",
   "execution_count": 5,
   "id": "540df801",
   "metadata": {},
   "outputs": [
    {
     "data": {
      "text/plain": [
       "'Poisson regression models were used to explore the association between HFRS incidence and climatic factors . The autocorrelation of incidence was examined and noticeable autocorrelation with lags of 1 , 3 , and 6 months were demonstrated .'"
      ]
     },
     "execution_count": 5,
     "metadata": {},
     "output_type": "execute_result"
    }
   ],
   "source": [
    "# case 0, 1\n",
    "\n",
    "contx_01  = contextWindow(snt_pa_2, 0, 1)\n",
    "contx_01[0]"
   ]
  },
  {
   "cell_type": "code",
   "execution_count": 6,
   "id": "64bc4f08",
   "metadata": {},
   "outputs": [
    {
     "name": "stdout",
     "output_type": "stream",
     "text": [
      "contx_10[0] : Poisson regression models were used to explore the association between HFRS incidence and climatic factors .\n",
      "\n",
      "contx_10[1] : Poisson regression models were used to explore the association between HFRS incidence and climatic factors . The autocorrelation of incidence was examined and noticeable autocorrelation with lags of 1 , 3 , and 6 months were demonstrated .\n"
     ]
    }
   ],
   "source": [
    "# case 1, 0\n",
    "\n",
    "contx_10  = contextWindow(snt_pa_2, 1, 0)\n",
    "\n",
    "print(f'contx_10[0] : {contx_10[0]}')\n",
    "print()\n",
    "print(f'contx_10[1] : {contx_10[1]}')"
   ]
  },
  {
   "cell_type": "code",
   "execution_count": 25,
   "id": "fa9d505d",
   "metadata": {},
   "outputs": [
    {
     "name": "stdout",
     "output_type": "stream",
     "text": [
      "contx_11[18] : Figure data removed from full text . Figure identifier and caption : 10.1371/journal.pone.0133218.g001 Spatial distribution of HFRS occurrence from 1997 to 2008.WS : Wushan ; FJ : Fengjie ; YY : Yunyang ; KX : Kaixian ; WZ : Wanzhou ; SZ : Shizhu ; ZX : Zhongxian ; FD : Fengdu ; WL : Wulong ; FL : Fuling ; CS : Changshou ; YB : Yubei ; BN : Banan .\n",
      "\n",
      "contx_11[20] : TGD : Three Gorges Dam . HFRS : hemorrhagic fever with renal syndrome . Central region includes the districts of ZX , CS , SZ , FL , FD , and WL .\n",
      "\n",
      "contx_11[21] : HFRS : hemorrhagic fever with renal syndrome . Central region includes the districts of ZX , CS , SZ , FL , FD , and WL . The rest of districts are designated as periphery region .\n",
      "\n",
      "contx_11[22] : Central region includes the districts of ZX , CS , SZ , FL , FD , and WL . The rest of districts are designated as periphery region .\n"
     ]
    }
   ],
   "source": [
    "# case 1, 1\n",
    "\n",
    "contx_11  = contextWindow(snt_pa_2, 1, 1)\n",
    "\n",
    "\n",
    "print(f'contx_11[18] : {contx_11[0]}')\n",
    "print()\n",
    "print(f'contx_11[20] : {contx_11[-3]}')\n",
    "print()\n",
    "print(f'contx_11[21] : {contx_11[-2]}')\n",
    "print()\n",
    "print(f'contx_11[22] : {contx_11[-1]}')\n"
   ]
  },
  {
   "cell_type": "code",
   "execution_count": 26,
   "id": "78b800dc",
   "metadata": {},
   "outputs": [
    {
     "name": "stdout",
     "output_type": "stream",
     "text": [
      "contx_02[0] : Figure data removed from full text . Figure identifier and caption : 10.1371/journal.pone.0133218.g001 Spatial distribution of HFRS occurrence from 1997 to 2008.WS : Wushan ; FJ : Fengjie ; YY : Yunyang ; KX : Kaixian ; WZ : Wanzhou ; SZ : Shizhu ; ZX : Zhongxian ; FD : Fengdu ; WL : Wulong ; FL : Fuling ; CS : Changshou ; YB : Yubei ; BN : Banan . TGD : Three Gorges Dam .\n",
      "\n",
      "contx_02[1] : Figure identifier and caption : 10.1371/journal.pone.0133218.g001 Spatial distribution of HFRS occurrence from 1997 to 2008.WS : Wushan ; FJ : Fengjie ; YY : Yunyang ; KX : Kaixian ; WZ : Wanzhou ; SZ : Shizhu ; ZX : Zhongxian ; FD : Fengdu ; WL : Wulong ; FL : Fuling ; CS : Changshou ; YB : Yubei ; BN : Banan . TGD : Three Gorges Dam . HFRS : hemorrhagic fever with renal syndrome .\n",
      "\n",
      "contx_02[2] : TGD : Three Gorges Dam . HFRS : hemorrhagic fever with renal syndrome . Central region includes the districts of ZX , CS , SZ , FL , FD , and WL .\n"
     ]
    }
   ],
   "source": [
    "# case 0, 2\n",
    "\n",
    "contx_02  = contextWindow(snt_pa_2, 0, 2)\n",
    "\n",
    "print(f'contx_02[0] : {contx_02[0]}')\n",
    "print()\n",
    "print(f'contx_02[1] : {contx_02[1]}')\n",
    "print()\n",
    "print(f'contx_02[2] : {contx_02[2]}')"
   ]
  },
  {
   "cell_type": "code",
   "execution_count": 9,
   "id": "2b860eac",
   "metadata": {},
   "outputs": [
    {
     "name": "stdout",
     "output_type": "stream",
     "text": [
      "contx_20[0] : Poisson regression models were used to explore the association between HFRS incidence and climatic factors .\n",
      "\n",
      "contx_20[1] : Poisson regression models were used to explore the association between HFRS incidence and climatic factors . The autocorrelation of incidence was examined and noticeable autocorrelation with lags of 1 , 3 , and 6 months were demonstrated .\n",
      "\n",
      "contx_20[2] : Poisson regression models were used to explore the association between HFRS incidence and climatic factors . The autocorrelation of incidence was examined and noticeable autocorrelation with lags of 1 , 3 , and 6 months were demonstrated . In these two plots , we found that the lag - 1 , lag - 3 and lag - 6 autocorrelations were 0.573 , 0.458 and 0.512 , respectively , which were significant under the level 0.05 ( the minimum absolute value for autocorrelation coefficient to be significant under 0.05 with the sample size of 140 was calculated to be formtok 0.166 , in which Φ − 1 is the inverse function of cumulative distribution function of standard normal distribution ) ; their partial autocorrelation were 0.573 , 0.279 and 0.220 , which were larger than the other lags up to 12 .\n",
      "\n",
      "contx_20[3] : The autocorrelation of incidence was examined and noticeable autocorrelation with lags of 1 , 3 , and 6 months were demonstrated . In these two plots , we found that the lag - 1 , lag - 3 and lag - 6 autocorrelations were 0.573 , 0.458 and 0.512 , respectively , which were significant under the level 0.05 ( the minimum absolute value for autocorrelation coefficient to be significant under 0.05 with the sample size of 140 was calculated to be formtok 0.166 , in which Φ − 1 is the inverse function of cumulative distribution function of standard normal distribution ) ; their partial autocorrelation were 0.573 , 0.279 and 0.220 , which were larger than the other lags up to 12 . Additionally , the AIC values increased when more autocorrelation terms were added to the model .\n"
     ]
    }
   ],
   "source": [
    "# case 2, 0\n",
    "\n",
    "contx_20  = contextWindow(snt_pa_2, 2, 0)\n",
    "\n",
    "print(f'contx_20[0] : {contx_20[0]}')\n",
    "print()\n",
    "print(f'contx_20[1] : {contx_20[1]}')\n",
    "print()\n",
    "print(f'contx_20[2] : {contx_20[2]}')\n",
    "print()\n",
    "print(f'contx_20[3] : {contx_20[3]}')"
   ]
  },
  {
   "cell_type": "code",
   "execution_count": 27,
   "id": "0738738c",
   "metadata": {},
   "outputs": [
    {
     "name": "stdout",
     "output_type": "stream",
     "text": [
      "contx_21[0] : Figure data removed from full text . Figure identifier and caption : 10.1371/journal.pone.0133218.g001 Spatial distribution of HFRS occurrence from 1997 to 2008.WS : Wushan ; FJ : Fengjie ; YY : Yunyang ; KX : Kaixian ; WZ : Wanzhou ; SZ : Shizhu ; ZX : Zhongxian ; FD : Fengdu ; WL : Wulong ; FL : Fuling ; CS : Changshou ; YB : Yubei ; BN : Banan .\n",
      "\n",
      "contx_21[1] : Figure data removed from full text . Figure identifier and caption : 10.1371/journal.pone.0133218.g001 Spatial distribution of HFRS occurrence from 1997 to 2008.WS : Wushan ; FJ : Fengjie ; YY : Yunyang ; KX : Kaixian ; WZ : Wanzhou ; SZ : Shizhu ; ZX : Zhongxian ; FD : Fengdu ; WL : Wulong ; FL : Fuling ; CS : Changshou ; YB : Yubei ; BN : Banan . TGD : Three Gorges Dam .\n",
      "\n",
      "contx_21[2] : Figure data removed from full text . Figure identifier and caption : 10.1371/journal.pone.0133218.g001 Spatial distribution of HFRS occurrence from 1997 to 2008.WS : Wushan ; FJ : Fengjie ; YY : Yunyang ; KX : Kaixian ; WZ : Wanzhou ; SZ : Shizhu ; ZX : Zhongxian ; FD : Fengdu ; WL : Wulong ; FL : Fuling ; CS : Changshou ; YB : Yubei ; BN : Banan . TGD : Three Gorges Dam . HFRS : hemorrhagic fever with renal syndrome .\n",
      "\n",
      "contx_21[3] : Figure identifier and caption : 10.1371/journal.pone.0133218.g001 Spatial distribution of HFRS occurrence from 1997 to 2008.WS : Wushan ; FJ : Fengjie ; YY : Yunyang ; KX : Kaixian ; WZ : Wanzhou ; SZ : Shizhu ; ZX : Zhongxian ; FD : Fengdu ; WL : Wulong ; FL : Fuling ; CS : Changshou ; YB : Yubei ; BN : Banan . TGD : Three Gorges Dam . HFRS : hemorrhagic fever with renal syndrome . Central region includes the districts of ZX , CS , SZ , FL , FD , and WL .\n"
     ]
    }
   ],
   "source": [
    "# case 2, 1\n",
    "\n",
    "contx_21  = contextWindow(snt_pa_2, 2, 1)\n",
    "\n",
    "print(f'contx_21[0] : {contx_21[0]}')\n",
    "print()\n",
    "print(f'contx_21[1] : {contx_21[1]}')\n",
    "print()\n",
    "print(f'contx_21[2] : {contx_21[2]}')\n",
    "print()\n",
    "print(f'contx_21[3] : {contx_21[3]}')"
   ]
  },
  {
   "cell_type": "code",
   "execution_count": 28,
   "id": "6b51fd73",
   "metadata": {},
   "outputs": [
    {
     "name": "stdout",
     "output_type": "stream",
     "text": [
      "contx_12[0] : Figure data removed from full text . Figure identifier and caption : 10.1371/journal.pone.0133218.g001 Spatial distribution of HFRS occurrence from 1997 to 2008.WS : Wushan ; FJ : Fengjie ; YY : Yunyang ; KX : Kaixian ; WZ : Wanzhou ; SZ : Shizhu ; ZX : Zhongxian ; FD : Fengdu ; WL : Wulong ; FL : Fuling ; CS : Changshou ; YB : Yubei ; BN : Banan . TGD : Three Gorges Dam .\n",
      "\n",
      "contx_12[1] : Figure data removed from full text . Figure identifier and caption : 10.1371/journal.pone.0133218.g001 Spatial distribution of HFRS occurrence from 1997 to 2008.WS : Wushan ; FJ : Fengjie ; YY : Yunyang ; KX : Kaixian ; WZ : Wanzhou ; SZ : Shizhu ; ZX : Zhongxian ; FD : Fengdu ; WL : Wulong ; FL : Fuling ; CS : Changshou ; YB : Yubei ; BN : Banan . TGD : Three Gorges Dam . HFRS : hemorrhagic fever with renal syndrome .\n",
      "\n",
      "contx_12[2] : Figure identifier and caption : 10.1371/journal.pone.0133218.g001 Spatial distribution of HFRS occurrence from 1997 to 2008.WS : Wushan ; FJ : Fengjie ; YY : Yunyang ; KX : Kaixian ; WZ : Wanzhou ; SZ : Shizhu ; ZX : Zhongxian ; FD : Fengdu ; WL : Wulong ; FL : Fuling ; CS : Changshou ; YB : Yubei ; BN : Banan . TGD : Three Gorges Dam . HFRS : hemorrhagic fever with renal syndrome . Central region includes the districts of ZX , CS , SZ , FL , FD , and WL .\n",
      "\n",
      "contx_12[3] : TGD : Three Gorges Dam . HFRS : hemorrhagic fever with renal syndrome . Central region includes the districts of ZX , CS , SZ , FL , FD , and WL . The rest of districts are designated as periphery region .\n"
     ]
    }
   ],
   "source": [
    "# case 1, 2\n",
    "\n",
    "contx_12  = contextWindow(snt_pa_2, 1, 2)\n",
    "\n",
    "print(f'contx_12[0] : {contx_12[0]}')\n",
    "print()\n",
    "print(f'contx_12[1] : {contx_12[1]}')\n",
    "print()\n",
    "print(f'contx_12[2] : {contx_12[2]}')\n",
    "print()\n",
    "print(f'contx_12[3] : {contx_12[3]}')"
   ]
  },
  {
   "cell_type": "code",
   "execution_count": 29,
   "id": "3154dbdf",
   "metadata": {},
   "outputs": [
    {
     "name": "stdout",
     "output_type": "stream",
     "text": [
      "contx_22[0] : Figure data removed from full text . Figure identifier and caption : 10.1371/journal.pone.0133218.g001 Spatial distribution of HFRS occurrence from 1997 to 2008.WS : Wushan ; FJ : Fengjie ; YY : Yunyang ; KX : Kaixian ; WZ : Wanzhou ; SZ : Shizhu ; ZX : Zhongxian ; FD : Fengdu ; WL : Wulong ; FL : Fuling ; CS : Changshou ; YB : Yubei ; BN : Banan . TGD : Three Gorges Dam .\n",
      "\n",
      "contx_22[1] : Figure data removed from full text . Figure identifier and caption : 10.1371/journal.pone.0133218.g001 Spatial distribution of HFRS occurrence from 1997 to 2008.WS : Wushan ; FJ : Fengjie ; YY : Yunyang ; KX : Kaixian ; WZ : Wanzhou ; SZ : Shizhu ; ZX : Zhongxian ; FD : Fengdu ; WL : Wulong ; FL : Fuling ; CS : Changshou ; YB : Yubei ; BN : Banan . TGD : Three Gorges Dam . HFRS : hemorrhagic fever with renal syndrome .\n",
      "\n",
      "contx_22[2] : Figure data removed from full text . Figure identifier and caption : 10.1371/journal.pone.0133218.g001 Spatial distribution of HFRS occurrence from 1997 to 2008.WS : Wushan ; FJ : Fengjie ; YY : Yunyang ; KX : Kaixian ; WZ : Wanzhou ; SZ : Shizhu ; ZX : Zhongxian ; FD : Fengdu ; WL : Wulong ; FL : Fuling ; CS : Changshou ; YB : Yubei ; BN : Banan . TGD : Three Gorges Dam . HFRS : hemorrhagic fever with renal syndrome . Central region includes the districts of ZX , CS , SZ , FL , FD , and WL .\n",
      "\n",
      "contx_22[3] : Figure identifier and caption : 10.1371/journal.pone.0133218.g001 Spatial distribution of HFRS occurrence from 1997 to 2008.WS : Wushan ; FJ : Fengjie ; YY : Yunyang ; KX : Kaixian ; WZ : Wanzhou ; SZ : Shizhu ; ZX : Zhongxian ; FD : Fengdu ; WL : Wulong ; FL : Fuling ; CS : Changshou ; YB : Yubei ; BN : Banan . TGD : Three Gorges Dam . HFRS : hemorrhagic fever with renal syndrome . Central region includes the districts of ZX , CS , SZ , FL , FD , and WL . The rest of districts are designated as periphery region .\n"
     ]
    }
   ],
   "source": [
    "# case 2, 2\n",
    "\n",
    "contx_22  = contextWindow(snt_pa_2, 2, 2)\n",
    "\n",
    "print(f'contx_22[0] : {contx_22[0]}')\n",
    "print()\n",
    "print(f'contx_22[1] : {contx_22[1]}')\n",
    "print()\n",
    "print(f'contx_22[2] : {contx_22[2]}')\n",
    "print()\n",
    "print(f'contx_22[3] : {contx_22[3]}')"
   ]
  },
  {
   "cell_type": "code",
   "execution_count": 30,
   "id": "3541d8e1",
   "metadata": {},
   "outputs": [
    {
     "name": "stdout",
     "output_type": "stream",
     "text": [
      "contx_30[0] : Figure data removed from full text . Figure identifier and caption : 10.1371/journal.pone.0133218.g001 Spatial distribution of HFRS occurrence from 1997 to 2008.WS : Wushan ; FJ : Fengjie ; YY : Yunyang ; KX : Kaixian ; WZ : Wanzhou ; SZ : Shizhu ; ZX : Zhongxian ; FD : Fengdu ; WL : Wulong ; FL : Fuling ; CS : Changshou ; YB : Yubei ; BN : Banan . TGD : Three Gorges Dam . HFRS : hemorrhagic fever with renal syndrome .\n",
      "\n",
      "contx_30[1] : Figure data removed from full text . Figure identifier and caption : 10.1371/journal.pone.0133218.g001 Spatial distribution of HFRS occurrence from 1997 to 2008.WS : Wushan ; FJ : Fengjie ; YY : Yunyang ; KX : Kaixian ; WZ : Wanzhou ; SZ : Shizhu ; ZX : Zhongxian ; FD : Fengdu ; WL : Wulong ; FL : Fuling ; CS : Changshou ; YB : Yubei ; BN : Banan . TGD : Three Gorges Dam . HFRS : hemorrhagic fever with renal syndrome . Central region includes the districts of ZX , CS , SZ , FL , FD , and WL .\n",
      "\n",
      "contx_30[2] : Figure data removed from full text . Figure identifier and caption : 10.1371/journal.pone.0133218.g001 Spatial distribution of HFRS occurrence from 1997 to 2008.WS : Wushan ; FJ : Fengjie ; YY : Yunyang ; KX : Kaixian ; WZ : Wanzhou ; SZ : Shizhu ; ZX : Zhongxian ; FD : Fengdu ; WL : Wulong ; FL : Fuling ; CS : Changshou ; YB : Yubei ; BN : Banan . TGD : Three Gorges Dam . HFRS : hemorrhagic fever with renal syndrome . Central region includes the districts of ZX , CS , SZ , FL , FD , and WL . The rest of districts are designated as periphery region .\n",
      "\n",
      "contx_30[3] : Figure data removed from full text . Figure identifier and caption : 10.1371/journal.pone.0133218.g001 Spatial distribution of HFRS occurrence from 1997 to 2008.WS : Wushan ; FJ : Fengjie ; YY : Yunyang ; KX : Kaixian ; WZ : Wanzhou ; SZ : Shizhu ; ZX : Zhongxian ; FD : Fengdu ; WL : Wulong ; FL : Fuling ; CS : Changshou ; YB : Yubei ; BN : Banan . TGD : Three Gorges Dam . HFRS : hemorrhagic fever with renal syndrome . Central region includes the districts of ZX , CS , SZ , FL , FD , and WL . The rest of districts are designated as periphery region .\n"
     ]
    }
   ],
   "source": [
    "# case 3, 0\n",
    "\n",
    "contx_30  = contextWindow(snt_pa_2, 3, 3)\n",
    "\n",
    "print(f'contx_30[0] : {contx_30[0]}')\n",
    "print()\n",
    "print(f'contx_30[1] : {contx_30[1]}')\n",
    "print()\n",
    "print(f'contx_30[2] : {contx_30[2]}')\n",
    "print()\n",
    "print(f'contx_30[3] : {contx_30[3]}')"
   ]
  },
  {
   "cell_type": "code",
   "execution_count": 31,
   "id": "cd189a1b",
   "metadata": {},
   "outputs": [
    {
     "name": "stdout",
     "output_type": "stream",
     "text": [
      "contx_31[0] : Figure data removed from full text . Figure identifier and caption : 10.1371/journal.pone.0133218.g001 Spatial distribution of HFRS occurrence from 1997 to 2008.WS : Wushan ; FJ : Fengjie ; YY : Yunyang ; KX : Kaixian ; WZ : Wanzhou ; SZ : Shizhu ; ZX : Zhongxian ; FD : Fengdu ; WL : Wulong ; FL : Fuling ; CS : Changshou ; YB : Yubei ; BN : Banan .\n",
      "\n",
      "contx_31[1] : Figure data removed from full text . Figure identifier and caption : 10.1371/journal.pone.0133218.g001 Spatial distribution of HFRS occurrence from 1997 to 2008.WS : Wushan ; FJ : Fengjie ; YY : Yunyang ; KX : Kaixian ; WZ : Wanzhou ; SZ : Shizhu ; ZX : Zhongxian ; FD : Fengdu ; WL : Wulong ; FL : Fuling ; CS : Changshou ; YB : Yubei ; BN : Banan . TGD : Three Gorges Dam .\n",
      "\n",
      "contx_31[2] : Figure data removed from full text . Figure identifier and caption : 10.1371/journal.pone.0133218.g001 Spatial distribution of HFRS occurrence from 1997 to 2008.WS : Wushan ; FJ : Fengjie ; YY : Yunyang ; KX : Kaixian ; WZ : Wanzhou ; SZ : Shizhu ; ZX : Zhongxian ; FD : Fengdu ; WL : Wulong ; FL : Fuling ; CS : Changshou ; YB : Yubei ; BN : Banan . TGD : Three Gorges Dam . HFRS : hemorrhagic fever with renal syndrome .\n",
      "\n",
      "contx_31[3] : Figure data removed from full text . Figure identifier and caption : 10.1371/journal.pone.0133218.g001 Spatial distribution of HFRS occurrence from 1997 to 2008.WS : Wushan ; FJ : Fengjie ; YY : Yunyang ; KX : Kaixian ; WZ : Wanzhou ; SZ : Shizhu ; ZX : Zhongxian ; FD : Fengdu ; WL : Wulong ; FL : Fuling ; CS : Changshou ; YB : Yubei ; BN : Banan . TGD : Three Gorges Dam . HFRS : hemorrhagic fever with renal syndrome . Central region includes the districts of ZX , CS , SZ , FL , FD , and WL .\n"
     ]
    }
   ],
   "source": [
    "# case 3, 1\n",
    "\n",
    "contx_31  = contextWindow(snt_pa_2, 3, 1)\n",
    "\n",
    "print(f'contx_31[0] : {contx_31[0]}')\n",
    "print()\n",
    "print(f'contx_31[1] : {contx_31[1]}')\n",
    "print()\n",
    "print(f'contx_31[2] : {contx_31[2]}')\n",
    "print()\n",
    "print(f'contx_31[3] : {contx_31[3]}')"
   ]
  },
  {
   "cell_type": "code",
   "execution_count": 32,
   "id": "e5cacf65",
   "metadata": {},
   "outputs": [
    {
     "name": "stdout",
     "output_type": "stream",
     "text": [
      "contx_32[0] : Figure data removed from full text . Figure identifier and caption : 10.1371/journal.pone.0133218.g001 Spatial distribution of HFRS occurrence from 1997 to 2008.WS : Wushan ; FJ : Fengjie ; YY : Yunyang ; KX : Kaixian ; WZ : Wanzhou ; SZ : Shizhu ; ZX : Zhongxian ; FD : Fengdu ; WL : Wulong ; FL : Fuling ; CS : Changshou ; YB : Yubei ; BN : Banan . TGD : Three Gorges Dam .\n",
      "\n",
      "contx_32[1] : Figure data removed from full text . Figure identifier and caption : 10.1371/journal.pone.0133218.g001 Spatial distribution of HFRS occurrence from 1997 to 2008.WS : Wushan ; FJ : Fengjie ; YY : Yunyang ; KX : Kaixian ; WZ : Wanzhou ; SZ : Shizhu ; ZX : Zhongxian ; FD : Fengdu ; WL : Wulong ; FL : Fuling ; CS : Changshou ; YB : Yubei ; BN : Banan . TGD : Three Gorges Dam . HFRS : hemorrhagic fever with renal syndrome .\n",
      "\n",
      "contx_32[2] : Figure data removed from full text . Figure identifier and caption : 10.1371/journal.pone.0133218.g001 Spatial distribution of HFRS occurrence from 1997 to 2008.WS : Wushan ; FJ : Fengjie ; YY : Yunyang ; KX : Kaixian ; WZ : Wanzhou ; SZ : Shizhu ; ZX : Zhongxian ; FD : Fengdu ; WL : Wulong ; FL : Fuling ; CS : Changshou ; YB : Yubei ; BN : Banan . TGD : Three Gorges Dam . HFRS : hemorrhagic fever with renal syndrome . Central region includes the districts of ZX , CS , SZ , FL , FD , and WL .\n",
      "\n",
      "contx_32[3] : Figure data removed from full text . Figure identifier and caption : 10.1371/journal.pone.0133218.g001 Spatial distribution of HFRS occurrence from 1997 to 2008.WS : Wushan ; FJ : Fengjie ; YY : Yunyang ; KX : Kaixian ; WZ : Wanzhou ; SZ : Shizhu ; ZX : Zhongxian ; FD : Fengdu ; WL : Wulong ; FL : Fuling ; CS : Changshou ; YB : Yubei ; BN : Banan . TGD : Three Gorges Dam . HFRS : hemorrhagic fever with renal syndrome . Central region includes the districts of ZX , CS , SZ , FL , FD , and WL . The rest of districts are designated as periphery region .\n"
     ]
    }
   ],
   "source": [
    "# case 3, 2\n",
    "\n",
    "contx_32  = contextWindow(snt_pa_2, 3, 2)\n",
    "\n",
    "print(f'contx_32[0] : {contx_32[0]}')\n",
    "print()\n",
    "print(f'contx_32[1] : {contx_32[1]}')\n",
    "print()\n",
    "print(f'contx_32[2] : {contx_32[2]}')\n",
    "print()\n",
    "print(f'contx_32[3] : {contx_32[3]}')"
   ]
  },
  {
   "cell_type": "code",
   "execution_count": 33,
   "id": "ec308791",
   "metadata": {},
   "outputs": [
    {
     "name": "stdout",
     "output_type": "stream",
     "text": [
      "contx_33[0] : Figure data removed from full text . Figure identifier and caption : 10.1371/journal.pone.0133218.g001 Spatial distribution of HFRS occurrence from 1997 to 2008.WS : Wushan ; FJ : Fengjie ; YY : Yunyang ; KX : Kaixian ; WZ : Wanzhou ; SZ : Shizhu ; ZX : Zhongxian ; FD : Fengdu ; WL : Wulong ; FL : Fuling ; CS : Changshou ; YB : Yubei ; BN : Banan . TGD : Three Gorges Dam . HFRS : hemorrhagic fever with renal syndrome .\n",
      "\n",
      "contx_33[1] : Figure data removed from full text . Figure identifier and caption : 10.1371/journal.pone.0133218.g001 Spatial distribution of HFRS occurrence from 1997 to 2008.WS : Wushan ; FJ : Fengjie ; YY : Yunyang ; KX : Kaixian ; WZ : Wanzhou ; SZ : Shizhu ; ZX : Zhongxian ; FD : Fengdu ; WL : Wulong ; FL : Fuling ; CS : Changshou ; YB : Yubei ; BN : Banan . TGD : Three Gorges Dam . HFRS : hemorrhagic fever with renal syndrome . Central region includes the districts of ZX , CS , SZ , FL , FD , and WL .\n",
      "\n",
      "contx_33[2] : Figure data removed from full text . Figure identifier and caption : 10.1371/journal.pone.0133218.g001 Spatial distribution of HFRS occurrence from 1997 to 2008.WS : Wushan ; FJ : Fengjie ; YY : Yunyang ; KX : Kaixian ; WZ : Wanzhou ; SZ : Shizhu ; ZX : Zhongxian ; FD : Fengdu ; WL : Wulong ; FL : Fuling ; CS : Changshou ; YB : Yubei ; BN : Banan . TGD : Three Gorges Dam . HFRS : hemorrhagic fever with renal syndrome . Central region includes the districts of ZX , CS , SZ , FL , FD , and WL . The rest of districts are designated as periphery region .\n",
      "\n",
      "contx_33[3] : Figure data removed from full text . Figure identifier and caption : 10.1371/journal.pone.0133218.g001 Spatial distribution of HFRS occurrence from 1997 to 2008.WS : Wushan ; FJ : Fengjie ; YY : Yunyang ; KX : Kaixian ; WZ : Wanzhou ; SZ : Shizhu ; ZX : Zhongxian ; FD : Fengdu ; WL : Wulong ; FL : Fuling ; CS : Changshou ; YB : Yubei ; BN : Banan . TGD : Three Gorges Dam . HFRS : hemorrhagic fever with renal syndrome . Central region includes the districts of ZX , CS , SZ , FL , FD , and WL . The rest of districts are designated as periphery region .\n"
     ]
    }
   ],
   "source": [
    "# case 3, 3\n",
    "\n",
    "contx_33  = contextWindow(snt_pa_2, 3, 3)\n",
    "\n",
    "print(f'contx_33[0] : {contx_33[0]}')\n",
    "print()\n",
    "print(f'contx_33[1] : {contx_33[1]}')\n",
    "print()\n",
    "print(f'contx_33[2] : {contx_33[2]}')\n",
    "print()\n",
    "print(f'contx_33[3] : {contx_33[3]}')"
   ]
  },
  {
   "cell_type": "markdown",
   "id": "6bf862cc",
   "metadata": {},
   "source": [
    "## Reading the whole paragrapgh as context"
   ]
  },
  {
   "cell_type": "code",
   "execution_count": 34,
   "id": "6e8ab23f",
   "metadata": {
    "scrolled": false
   },
   "outputs": [
    {
     "data": {
      "text/plain": [
       "'Figure data removed from full text . Figure identifier and caption : 10.1371/journal.pone.0133218.g001 Spatial distribution of HFRS occurrence from 1997 to 2008.WS : Wushan ; FJ : Fengjie ; YY : Yunyang ; KX : Kaixian ; WZ : Wanzhou ; SZ : Shizhu ; ZX : Zhongxian ; FD : Fengdu ; WL : Wulong ; FL : Fuling ; CS : Changshou ; YB : Yubei ; BN : Banan . TGD : Three Gorges Dam . HFRS : hemorrhagic fever with renal syndrome . Central region includes the districts of ZX , CS , SZ , FL , FD , and WL . The rest of districts are designated as periphery region .'"
      ]
     },
     "execution_count": 34,
     "metadata": {},
     "output_type": "execute_result"
    }
   ],
   "source": [
    "# the whole paragrapgh as a context\n",
    "\n",
    "contx_whole_p  = contextWindow(snt_pa_2, len(snt_pa_2), len(snt_pa_2))\n",
    "\n",
    "\n",
    "contx_whole_p[0]"
   ]
  },
  {
   "cell_type": "code",
   "execution_count": null,
   "id": "4d414cdd",
   "metadata": {},
   "outputs": [],
   "source": []
  },
  {
   "cell_type": "code",
   "execution_count": null,
   "id": "acac3436",
   "metadata": {},
   "outputs": [],
   "source": []
  },
  {
   "cell_type": "code",
   "execution_count": null,
   "id": "0563e377",
   "metadata": {},
   "outputs": [],
   "source": []
  },
  {
   "cell_type": "code",
   "execution_count": null,
   "id": "2571be74",
   "metadata": {},
   "outputs": [],
   "source": []
  }
 ],
 "metadata": {
  "kernelspec": {
   "display_name": "Python 3 (ipykernel)",
   "language": "python",
   "name": "python3"
  },
  "language_info": {
   "codemirror_mode": {
    "name": "ipython",
    "version": 3
   },
   "file_extension": ".py",
   "mimetype": "text/x-python",
   "name": "python",
   "nbconvert_exporter": "python",
   "pygments_lexer": "ipython3",
   "version": "3.8.10"
  }
 },
 "nbformat": 4,
 "nbformat_minor": 5
}
